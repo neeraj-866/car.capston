{
  "cells": [
    {
      "cell_type": "code",
      "execution_count": 84,
      "metadata": {
        "id": "k3MQ7CcJERcc"
      },
      "outputs": [],
      "source": [
        "import numpy as np\n",
        "import pandas as pd\n",
        "import matplotlib.pyplot as plt\n",
        "import seaborn as sns\n",
        "import warnings\n",
        "warnings.filterwarnings(\"ignore\")"
      ]
    },
    {
      "cell_type": "code",
      "execution_count": 86,
      "metadata": {
        "id": "FfoO4sB4ERZU"
      },
      "outputs": [
        {
          "data": {
            "text/html": [
              "<div>\n",
              "<style scoped>\n",
              "    .dataframe tbody tr th:only-of-type {\n",
              "        vertical-align: middle;\n",
              "    }\n",
              "\n",
              "    .dataframe tbody tr th {\n",
              "        vertical-align: top;\n",
              "    }\n",
              "\n",
              "    .dataframe thead th {\n",
              "        text-align: right;\n",
              "    }\n",
              "</style>\n",
              "<table border=\"1\" class=\"dataframe\">\n",
              "  <thead>\n",
              "    <tr style=\"text-align: right;\">\n",
              "      <th></th>\n",
              "      <th>name</th>\n",
              "      <th>year</th>\n",
              "      <th>selling_price</th>\n",
              "      <th>km_driven</th>\n",
              "      <th>fuel</th>\n",
              "      <th>seller_type</th>\n",
              "      <th>transmission</th>\n",
              "      <th>owner</th>\n",
              "    </tr>\n",
              "  </thead>\n",
              "  <tbody>\n",
              "    <tr>\n",
              "      <th>0</th>\n",
              "      <td>Maruti 800 AC</td>\n",
              "      <td>2007</td>\n",
              "      <td>60000</td>\n",
              "      <td>70000</td>\n",
              "      <td>Petrol</td>\n",
              "      <td>Individual</td>\n",
              "      <td>Manual</td>\n",
              "      <td>First Owner</td>\n",
              "    </tr>\n",
              "    <tr>\n",
              "      <th>1</th>\n",
              "      <td>Maruti Wagon R LXI Minor</td>\n",
              "      <td>2007</td>\n",
              "      <td>135000</td>\n",
              "      <td>50000</td>\n",
              "      <td>Petrol</td>\n",
              "      <td>Individual</td>\n",
              "      <td>Manual</td>\n",
              "      <td>First Owner</td>\n",
              "    </tr>\n",
              "    <tr>\n",
              "      <th>2</th>\n",
              "      <td>Hyundai Verna 1.6 SX</td>\n",
              "      <td>2012</td>\n",
              "      <td>600000</td>\n",
              "      <td>100000</td>\n",
              "      <td>Diesel</td>\n",
              "      <td>Individual</td>\n",
              "      <td>Manual</td>\n",
              "      <td>First Owner</td>\n",
              "    </tr>\n",
              "    <tr>\n",
              "      <th>3</th>\n",
              "      <td>Datsun RediGO T Option</td>\n",
              "      <td>2017</td>\n",
              "      <td>250000</td>\n",
              "      <td>46000</td>\n",
              "      <td>Petrol</td>\n",
              "      <td>Individual</td>\n",
              "      <td>Manual</td>\n",
              "      <td>First Owner</td>\n",
              "    </tr>\n",
              "    <tr>\n",
              "      <th>4</th>\n",
              "      <td>Honda Amaze VX i-DTEC</td>\n",
              "      <td>2014</td>\n",
              "      <td>450000</td>\n",
              "      <td>141000</td>\n",
              "      <td>Diesel</td>\n",
              "      <td>Individual</td>\n",
              "      <td>Manual</td>\n",
              "      <td>Second Owner</td>\n",
              "    </tr>\n",
              "  </tbody>\n",
              "</table>\n",
              "</div>"
            ],
            "text/plain": [
              "                       name  year  selling_price  km_driven    fuel  \\\n",
              "0             Maruti 800 AC  2007          60000      70000  Petrol   \n",
              "1  Maruti Wagon R LXI Minor  2007         135000      50000  Petrol   \n",
              "2      Hyundai Verna 1.6 SX  2012         600000     100000  Diesel   \n",
              "3    Datsun RediGO T Option  2017         250000      46000  Petrol   \n",
              "4     Honda Amaze VX i-DTEC  2014         450000     141000  Diesel   \n",
              "\n",
              "  seller_type transmission         owner  \n",
              "0  Individual       Manual   First Owner  \n",
              "1  Individual       Manual   First Owner  \n",
              "2  Individual       Manual   First Owner  \n",
              "3  Individual       Manual   First Owner  \n",
              "4  Individual       Manual  Second Owner  "
            ]
          },
          "execution_count": 86,
          "metadata": {},
          "output_type": "execute_result"
        }
      ],
      "source": [
        "df = pd.read_csv(r'C:\\Users\\neera\\Downloads\\mL pic\\CAR DETAILS.csv')\n",
        "df.head()"
      ]
    },
    {
      "cell_type": "markdown",
      "metadata": {
        "id": "bzfXzPKLGvPc"
      },
      "source": [
        "# **Shape, Size, Coloumns, Info**"
      ]
    },
    {
      "cell_type": "code",
      "execution_count": 3,
      "metadata": {
        "id": "bmfJagnZERWO"
      },
      "outputs": [
        {
          "data": {
            "text/plain": [
              "Index(['name', 'year', 'selling_price', 'km_driven', 'fuel', 'seller_type',\n",
              "       'transmission', 'owner'],\n",
              "      dtype='object')"
            ]
          },
          "execution_count": 3,
          "metadata": {},
          "output_type": "execute_result"
        }
      ],
      "source": [
        "df.columns"
      ]
    },
    {
      "cell_type": "code",
      "execution_count": 4,
      "metadata": {
        "id": "OBp6CbZ8ERTF"
      },
      "outputs": [
        {
          "data": {
            "text/plain": [
              "(4340, 8)"
            ]
          },
          "execution_count": 4,
          "metadata": {},
          "output_type": "execute_result"
        }
      ],
      "source": [
        "df.shape"
      ]
    },
    {
      "cell_type": "code",
      "execution_count": 5,
      "metadata": {
        "id": "3F8gNDAgERPo"
      },
      "outputs": [
        {
          "name": "stdout",
          "output_type": "stream",
          "text": [
            "<class 'pandas.core.frame.DataFrame'>\n",
            "RangeIndex: 4340 entries, 0 to 4339\n",
            "Data columns (total 8 columns):\n",
            " #   Column         Non-Null Count  Dtype \n",
            "---  ------         --------------  ----- \n",
            " 0   name           4340 non-null   object\n",
            " 1   year           4340 non-null   int64 \n",
            " 2   selling_price  4340 non-null   int64 \n",
            " 3   km_driven      4340 non-null   int64 \n",
            " 4   fuel           4340 non-null   object\n",
            " 5   seller_type    4340 non-null   object\n",
            " 6   transmission   4340 non-null   object\n",
            " 7   owner          4340 non-null   object\n",
            "dtypes: int64(3), object(5)\n",
            "memory usage: 271.4+ KB\n"
          ]
        }
      ],
      "source": [
        "df.info()"
      ]
    },
    {
      "cell_type": "markdown",
      "metadata": {
        "id": "Occ3AV6ZFvyW"
      },
      "source": [
        "# **Checking Null value**"
      ]
    },
    {
      "cell_type": "code",
      "execution_count": 6,
      "metadata": {
        "id": "A14FQmgVERI_"
      },
      "outputs": [
        {
          "data": {
            "text/plain": [
              "name             0\n",
              "year             0\n",
              "selling_price    0\n",
              "km_driven        0\n",
              "fuel             0\n",
              "seller_type      0\n",
              "transmission     0\n",
              "owner            0\n",
              "dtype: int64"
            ]
          },
          "execution_count": 6,
          "metadata": {},
          "output_type": "execute_result"
        }
      ],
      "source": [
        "df.isnull().sum()"
      ]
    },
    {
      "cell_type": "markdown",
      "metadata": {
        "id": "bCqQ23NZGiOG"
      },
      "source": [
        "# **Finding Duplicate Value**"
      ]
    },
    {
      "cell_type": "code",
      "execution_count": 7,
      "metadata": {
        "id": "u7RbzOXFFPz7"
      },
      "outputs": [
        {
          "data": {
            "text/plain": [
              "763"
            ]
          },
          "execution_count": 7,
          "metadata": {},
          "output_type": "execute_result"
        }
      ],
      "source": [
        "df.duplicated().sum()"
      ]
    },
    {
      "cell_type": "code",
      "execution_count": 8,
      "metadata": {
        "id": "XmdgcBiKEQ-r"
      },
      "outputs": [
        {
          "data": {
            "text/plain": [
              "False    3577\n",
              "True      763\n",
              "Name: count, dtype: int64"
            ]
          },
          "execution_count": 8,
          "metadata": {},
          "output_type": "execute_result"
        }
      ],
      "source": [
        "df.duplicated().value_counts()"
      ]
    },
    {
      "cell_type": "code",
      "execution_count": 9,
      "metadata": {
        "id": "Meo-M-r0Fn2a"
      },
      "outputs": [],
      "source": [
        "df.drop_duplicates(subset=None,inplace=True)"
      ]
    },
    {
      "cell_type": "code",
      "execution_count": 10,
      "metadata": {
        "id": "SEh7sxJqKlF8"
      },
      "outputs": [
        {
          "data": {
            "text/plain": [
              "(3577, 8)"
            ]
          },
          "execution_count": 10,
          "metadata": {},
          "output_type": "execute_result"
        }
      ],
      "source": [
        "df.shape"
      ]
    },
    {
      "cell_type": "code",
      "execution_count": 11,
      "metadata": {
        "id": "hqaYgW3HK1pL"
      },
      "outputs": [
        {
          "data": {
            "text/html": [
              "<div>\n",
              "<style scoped>\n",
              "    .dataframe tbody tr th:only-of-type {\n",
              "        vertical-align: middle;\n",
              "    }\n",
              "\n",
              "    .dataframe tbody tr th {\n",
              "        vertical-align: top;\n",
              "    }\n",
              "\n",
              "    .dataframe thead th {\n",
              "        text-align: right;\n",
              "    }\n",
              "</style>\n",
              "<table border=\"1\" class=\"dataframe\">\n",
              "  <thead>\n",
              "    <tr style=\"text-align: right;\">\n",
              "      <th></th>\n",
              "      <th>year</th>\n",
              "      <th>selling_price</th>\n",
              "      <th>km_driven</th>\n",
              "    </tr>\n",
              "  </thead>\n",
              "  <tbody>\n",
              "    <tr>\n",
              "      <th>count</th>\n",
              "      <td>3577.000000</td>\n",
              "      <td>3.577000e+03</td>\n",
              "      <td>3577.000000</td>\n",
              "    </tr>\n",
              "    <tr>\n",
              "      <th>mean</th>\n",
              "      <td>2012.962538</td>\n",
              "      <td>4.739125e+05</td>\n",
              "      <td>69250.545709</td>\n",
              "    </tr>\n",
              "    <tr>\n",
              "      <th>std</th>\n",
              "      <td>4.251759</td>\n",
              "      <td>5.093018e+05</td>\n",
              "      <td>47579.940016</td>\n",
              "    </tr>\n",
              "    <tr>\n",
              "      <th>min</th>\n",
              "      <td>1992.000000</td>\n",
              "      <td>2.000000e+04</td>\n",
              "      <td>1.000000</td>\n",
              "    </tr>\n",
              "    <tr>\n",
              "      <th>25%</th>\n",
              "      <td>2010.000000</td>\n",
              "      <td>2.000000e+05</td>\n",
              "      <td>36000.000000</td>\n",
              "    </tr>\n",
              "    <tr>\n",
              "      <th>50%</th>\n",
              "      <td>2013.000000</td>\n",
              "      <td>3.500000e+05</td>\n",
              "      <td>60000.000000</td>\n",
              "    </tr>\n",
              "    <tr>\n",
              "      <th>75%</th>\n",
              "      <td>2016.000000</td>\n",
              "      <td>6.000000e+05</td>\n",
              "      <td>90000.000000</td>\n",
              "    </tr>\n",
              "    <tr>\n",
              "      <th>max</th>\n",
              "      <td>2020.000000</td>\n",
              "      <td>8.900000e+06</td>\n",
              "      <td>806599.000000</td>\n",
              "    </tr>\n",
              "  </tbody>\n",
              "</table>\n",
              "</div>"
            ],
            "text/plain": [
              "              year  selling_price      km_driven\n",
              "count  3577.000000   3.577000e+03    3577.000000\n",
              "mean   2012.962538   4.739125e+05   69250.545709\n",
              "std       4.251759   5.093018e+05   47579.940016\n",
              "min    1992.000000   2.000000e+04       1.000000\n",
              "25%    2010.000000   2.000000e+05   36000.000000\n",
              "50%    2013.000000   3.500000e+05   60000.000000\n",
              "75%    2016.000000   6.000000e+05   90000.000000\n",
              "max    2020.000000   8.900000e+06  806599.000000"
            ]
          },
          "execution_count": 11,
          "metadata": {},
          "output_type": "execute_result"
        }
      ],
      "source": [
        "df.describe()"
      ]
    },
    {
      "cell_type": "code",
      "execution_count": 12,
      "metadata": {
        "id": "SWUrTzHfksZT"
      },
      "outputs": [],
      "source": [
        "import datetime"
      ]
    },
    {
      "cell_type": "code",
      "execution_count": 13,
      "metadata": {
        "id": "AuW5C_b5kvE7"
      },
      "outputs": [],
      "source": [
        "date_time=datetime.datetime.now()"
      ]
    },
    {
      "cell_type": "code",
      "execution_count": 14,
      "metadata": {
        "id": "891XLPLMkx5Z"
      },
      "outputs": [
        {
          "name": "stdout",
          "output_type": "stream",
          "text": [
            "2023-12-05 11:02:59.421878\n"
          ]
        }
      ],
      "source": [
        "print(date_time)"
      ]
    },
    {
      "cell_type": "code",
      "execution_count": 15,
      "metadata": {
        "id": "wGg72Ya0k4-o"
      },
      "outputs": [],
      "source": [
        "df['age']=date_time.year-df['year']"
      ]
    },
    {
      "cell_type": "code",
      "execution_count": 16,
      "metadata": {
        "id": "oh87yA6NlDpv"
      },
      "outputs": [
        {
          "data": {
            "text/html": [
              "<div>\n",
              "<style scoped>\n",
              "    .dataframe tbody tr th:only-of-type {\n",
              "        vertical-align: middle;\n",
              "    }\n",
              "\n",
              "    .dataframe tbody tr th {\n",
              "        vertical-align: top;\n",
              "    }\n",
              "\n",
              "    .dataframe thead th {\n",
              "        text-align: right;\n",
              "    }\n",
              "</style>\n",
              "<table border=\"1\" class=\"dataframe\">\n",
              "  <thead>\n",
              "    <tr style=\"text-align: right;\">\n",
              "      <th></th>\n",
              "      <th>name</th>\n",
              "      <th>year</th>\n",
              "      <th>selling_price</th>\n",
              "      <th>km_driven</th>\n",
              "      <th>fuel</th>\n",
              "      <th>seller_type</th>\n",
              "      <th>transmission</th>\n",
              "      <th>owner</th>\n",
              "      <th>age</th>\n",
              "    </tr>\n",
              "  </thead>\n",
              "  <tbody>\n",
              "    <tr>\n",
              "      <th>0</th>\n",
              "      <td>Maruti 800 AC</td>\n",
              "      <td>2007</td>\n",
              "      <td>60000</td>\n",
              "      <td>70000</td>\n",
              "      <td>Petrol</td>\n",
              "      <td>Individual</td>\n",
              "      <td>Manual</td>\n",
              "      <td>First Owner</td>\n",
              "      <td>16</td>\n",
              "    </tr>\n",
              "    <tr>\n",
              "      <th>1</th>\n",
              "      <td>Maruti Wagon R LXI Minor</td>\n",
              "      <td>2007</td>\n",
              "      <td>135000</td>\n",
              "      <td>50000</td>\n",
              "      <td>Petrol</td>\n",
              "      <td>Individual</td>\n",
              "      <td>Manual</td>\n",
              "      <td>First Owner</td>\n",
              "      <td>16</td>\n",
              "    </tr>\n",
              "    <tr>\n",
              "      <th>2</th>\n",
              "      <td>Hyundai Verna 1.6 SX</td>\n",
              "      <td>2012</td>\n",
              "      <td>600000</td>\n",
              "      <td>100000</td>\n",
              "      <td>Diesel</td>\n",
              "      <td>Individual</td>\n",
              "      <td>Manual</td>\n",
              "      <td>First Owner</td>\n",
              "      <td>11</td>\n",
              "    </tr>\n",
              "    <tr>\n",
              "      <th>3</th>\n",
              "      <td>Datsun RediGO T Option</td>\n",
              "      <td>2017</td>\n",
              "      <td>250000</td>\n",
              "      <td>46000</td>\n",
              "      <td>Petrol</td>\n",
              "      <td>Individual</td>\n",
              "      <td>Manual</td>\n",
              "      <td>First Owner</td>\n",
              "      <td>6</td>\n",
              "    </tr>\n",
              "    <tr>\n",
              "      <th>4</th>\n",
              "      <td>Honda Amaze VX i-DTEC</td>\n",
              "      <td>2014</td>\n",
              "      <td>450000</td>\n",
              "      <td>141000</td>\n",
              "      <td>Diesel</td>\n",
              "      <td>Individual</td>\n",
              "      <td>Manual</td>\n",
              "      <td>Second Owner</td>\n",
              "      <td>9</td>\n",
              "    </tr>\n",
              "    <tr>\n",
              "      <th>...</th>\n",
              "      <td>...</td>\n",
              "      <td>...</td>\n",
              "      <td>...</td>\n",
              "      <td>...</td>\n",
              "      <td>...</td>\n",
              "      <td>...</td>\n",
              "      <td>...</td>\n",
              "      <td>...</td>\n",
              "      <td>...</td>\n",
              "    </tr>\n",
              "    <tr>\n",
              "      <th>4335</th>\n",
              "      <td>Hyundai i20 Magna 1.4 CRDi (Diesel)</td>\n",
              "      <td>2014</td>\n",
              "      <td>409999</td>\n",
              "      <td>80000</td>\n",
              "      <td>Diesel</td>\n",
              "      <td>Individual</td>\n",
              "      <td>Manual</td>\n",
              "      <td>Second Owner</td>\n",
              "      <td>9</td>\n",
              "    </tr>\n",
              "    <tr>\n",
              "      <th>4336</th>\n",
              "      <td>Hyundai i20 Magna 1.4 CRDi</td>\n",
              "      <td>2014</td>\n",
              "      <td>409999</td>\n",
              "      <td>80000</td>\n",
              "      <td>Diesel</td>\n",
              "      <td>Individual</td>\n",
              "      <td>Manual</td>\n",
              "      <td>Second Owner</td>\n",
              "      <td>9</td>\n",
              "    </tr>\n",
              "    <tr>\n",
              "      <th>4337</th>\n",
              "      <td>Maruti 800 AC BSIII</td>\n",
              "      <td>2009</td>\n",
              "      <td>110000</td>\n",
              "      <td>83000</td>\n",
              "      <td>Petrol</td>\n",
              "      <td>Individual</td>\n",
              "      <td>Manual</td>\n",
              "      <td>Second Owner</td>\n",
              "      <td>14</td>\n",
              "    </tr>\n",
              "    <tr>\n",
              "      <th>4338</th>\n",
              "      <td>Hyundai Creta 1.6 CRDi SX Option</td>\n",
              "      <td>2016</td>\n",
              "      <td>865000</td>\n",
              "      <td>90000</td>\n",
              "      <td>Diesel</td>\n",
              "      <td>Individual</td>\n",
              "      <td>Manual</td>\n",
              "      <td>First Owner</td>\n",
              "      <td>7</td>\n",
              "    </tr>\n",
              "    <tr>\n",
              "      <th>4339</th>\n",
              "      <td>Renault KWID RXT</td>\n",
              "      <td>2016</td>\n",
              "      <td>225000</td>\n",
              "      <td>40000</td>\n",
              "      <td>Petrol</td>\n",
              "      <td>Individual</td>\n",
              "      <td>Manual</td>\n",
              "      <td>First Owner</td>\n",
              "      <td>7</td>\n",
              "    </tr>\n",
              "  </tbody>\n",
              "</table>\n",
              "<p>3577 rows × 9 columns</p>\n",
              "</div>"
            ],
            "text/plain": [
              "                                     name  year  selling_price  km_driven  \\\n",
              "0                           Maruti 800 AC  2007          60000      70000   \n",
              "1                Maruti Wagon R LXI Minor  2007         135000      50000   \n",
              "2                    Hyundai Verna 1.6 SX  2012         600000     100000   \n",
              "3                  Datsun RediGO T Option  2017         250000      46000   \n",
              "4                   Honda Amaze VX i-DTEC  2014         450000     141000   \n",
              "...                                   ...   ...            ...        ...   \n",
              "4335  Hyundai i20 Magna 1.4 CRDi (Diesel)  2014         409999      80000   \n",
              "4336           Hyundai i20 Magna 1.4 CRDi  2014         409999      80000   \n",
              "4337                  Maruti 800 AC BSIII  2009         110000      83000   \n",
              "4338     Hyundai Creta 1.6 CRDi SX Option  2016         865000      90000   \n",
              "4339                     Renault KWID RXT  2016         225000      40000   \n",
              "\n",
              "        fuel seller_type transmission         owner  age  \n",
              "0     Petrol  Individual       Manual   First Owner   16  \n",
              "1     Petrol  Individual       Manual   First Owner   16  \n",
              "2     Diesel  Individual       Manual   First Owner   11  \n",
              "3     Petrol  Individual       Manual   First Owner    6  \n",
              "4     Diesel  Individual       Manual  Second Owner    9  \n",
              "...      ...         ...          ...           ...  ...  \n",
              "4335  Diesel  Individual       Manual  Second Owner    9  \n",
              "4336  Diesel  Individual       Manual  Second Owner    9  \n",
              "4337  Petrol  Individual       Manual  Second Owner   14  \n",
              "4338  Diesel  Individual       Manual   First Owner    7  \n",
              "4339  Petrol  Individual       Manual   First Owner    7  \n",
              "\n",
              "[3577 rows x 9 columns]"
            ]
          },
          "execution_count": 16,
          "metadata": {},
          "output_type": "execute_result"
        }
      ],
      "source": [
        "df"
      ]
    },
    {
      "cell_type": "code",
      "execution_count": 17,
      "metadata": {
        "id": "hvYbNuvslI9j"
      },
      "outputs": [],
      "source": [
        "car=df.copy()"
      ]
    },
    {
      "cell_type": "code",
      "execution_count": 18,
      "metadata": {
        "id": "F2MLsOt_lxro"
      },
      "outputs": [],
      "source": [
        "car['current']= 2023"
      ]
    },
    {
      "cell_type": "code",
      "execution_count": 19,
      "metadata": {
        "id": "g8eus1ykl1eu"
      },
      "outputs": [],
      "source": [
        "car['age']=car['current']-car['year']"
      ]
    },
    {
      "cell_type": "code",
      "execution_count": 20,
      "metadata": {
        "id": "8C29Xm7Dl3A0"
      },
      "outputs": [
        {
          "data": {
            "text/html": [
              "<div>\n",
              "<style scoped>\n",
              "    .dataframe tbody tr th:only-of-type {\n",
              "        vertical-align: middle;\n",
              "    }\n",
              "\n",
              "    .dataframe tbody tr th {\n",
              "        vertical-align: top;\n",
              "    }\n",
              "\n",
              "    .dataframe thead th {\n",
              "        text-align: right;\n",
              "    }\n",
              "</style>\n",
              "<table border=\"1\" class=\"dataframe\">\n",
              "  <thead>\n",
              "    <tr style=\"text-align: right;\">\n",
              "      <th></th>\n",
              "      <th>name</th>\n",
              "      <th>year</th>\n",
              "      <th>selling_price</th>\n",
              "      <th>km_driven</th>\n",
              "      <th>fuel</th>\n",
              "      <th>seller_type</th>\n",
              "      <th>transmission</th>\n",
              "      <th>owner</th>\n",
              "      <th>age</th>\n",
              "      <th>current</th>\n",
              "    </tr>\n",
              "  </thead>\n",
              "  <tbody>\n",
              "    <tr>\n",
              "      <th>0</th>\n",
              "      <td>Maruti 800 AC</td>\n",
              "      <td>2007</td>\n",
              "      <td>60000</td>\n",
              "      <td>70000</td>\n",
              "      <td>Petrol</td>\n",
              "      <td>Individual</td>\n",
              "      <td>Manual</td>\n",
              "      <td>First Owner</td>\n",
              "      <td>16</td>\n",
              "      <td>2023</td>\n",
              "    </tr>\n",
              "    <tr>\n",
              "      <th>1</th>\n",
              "      <td>Maruti Wagon R LXI Minor</td>\n",
              "      <td>2007</td>\n",
              "      <td>135000</td>\n",
              "      <td>50000</td>\n",
              "      <td>Petrol</td>\n",
              "      <td>Individual</td>\n",
              "      <td>Manual</td>\n",
              "      <td>First Owner</td>\n",
              "      <td>16</td>\n",
              "      <td>2023</td>\n",
              "    </tr>\n",
              "    <tr>\n",
              "      <th>2</th>\n",
              "      <td>Hyundai Verna 1.6 SX</td>\n",
              "      <td>2012</td>\n",
              "      <td>600000</td>\n",
              "      <td>100000</td>\n",
              "      <td>Diesel</td>\n",
              "      <td>Individual</td>\n",
              "      <td>Manual</td>\n",
              "      <td>First Owner</td>\n",
              "      <td>11</td>\n",
              "      <td>2023</td>\n",
              "    </tr>\n",
              "    <tr>\n",
              "      <th>3</th>\n",
              "      <td>Datsun RediGO T Option</td>\n",
              "      <td>2017</td>\n",
              "      <td>250000</td>\n",
              "      <td>46000</td>\n",
              "      <td>Petrol</td>\n",
              "      <td>Individual</td>\n",
              "      <td>Manual</td>\n",
              "      <td>First Owner</td>\n",
              "      <td>6</td>\n",
              "      <td>2023</td>\n",
              "    </tr>\n",
              "    <tr>\n",
              "      <th>4</th>\n",
              "      <td>Honda Amaze VX i-DTEC</td>\n",
              "      <td>2014</td>\n",
              "      <td>450000</td>\n",
              "      <td>141000</td>\n",
              "      <td>Diesel</td>\n",
              "      <td>Individual</td>\n",
              "      <td>Manual</td>\n",
              "      <td>Second Owner</td>\n",
              "      <td>9</td>\n",
              "      <td>2023</td>\n",
              "    </tr>\n",
              "    <tr>\n",
              "      <th>...</th>\n",
              "      <td>...</td>\n",
              "      <td>...</td>\n",
              "      <td>...</td>\n",
              "      <td>...</td>\n",
              "      <td>...</td>\n",
              "      <td>...</td>\n",
              "      <td>...</td>\n",
              "      <td>...</td>\n",
              "      <td>...</td>\n",
              "      <td>...</td>\n",
              "    </tr>\n",
              "    <tr>\n",
              "      <th>4335</th>\n",
              "      <td>Hyundai i20 Magna 1.4 CRDi (Diesel)</td>\n",
              "      <td>2014</td>\n",
              "      <td>409999</td>\n",
              "      <td>80000</td>\n",
              "      <td>Diesel</td>\n",
              "      <td>Individual</td>\n",
              "      <td>Manual</td>\n",
              "      <td>Second Owner</td>\n",
              "      <td>9</td>\n",
              "      <td>2023</td>\n",
              "    </tr>\n",
              "    <tr>\n",
              "      <th>4336</th>\n",
              "      <td>Hyundai i20 Magna 1.4 CRDi</td>\n",
              "      <td>2014</td>\n",
              "      <td>409999</td>\n",
              "      <td>80000</td>\n",
              "      <td>Diesel</td>\n",
              "      <td>Individual</td>\n",
              "      <td>Manual</td>\n",
              "      <td>Second Owner</td>\n",
              "      <td>9</td>\n",
              "      <td>2023</td>\n",
              "    </tr>\n",
              "    <tr>\n",
              "      <th>4337</th>\n",
              "      <td>Maruti 800 AC BSIII</td>\n",
              "      <td>2009</td>\n",
              "      <td>110000</td>\n",
              "      <td>83000</td>\n",
              "      <td>Petrol</td>\n",
              "      <td>Individual</td>\n",
              "      <td>Manual</td>\n",
              "      <td>Second Owner</td>\n",
              "      <td>14</td>\n",
              "      <td>2023</td>\n",
              "    </tr>\n",
              "    <tr>\n",
              "      <th>4338</th>\n",
              "      <td>Hyundai Creta 1.6 CRDi SX Option</td>\n",
              "      <td>2016</td>\n",
              "      <td>865000</td>\n",
              "      <td>90000</td>\n",
              "      <td>Diesel</td>\n",
              "      <td>Individual</td>\n",
              "      <td>Manual</td>\n",
              "      <td>First Owner</td>\n",
              "      <td>7</td>\n",
              "      <td>2023</td>\n",
              "    </tr>\n",
              "    <tr>\n",
              "      <th>4339</th>\n",
              "      <td>Renault KWID RXT</td>\n",
              "      <td>2016</td>\n",
              "      <td>225000</td>\n",
              "      <td>40000</td>\n",
              "      <td>Petrol</td>\n",
              "      <td>Individual</td>\n",
              "      <td>Manual</td>\n",
              "      <td>First Owner</td>\n",
              "      <td>7</td>\n",
              "      <td>2023</td>\n",
              "    </tr>\n",
              "  </tbody>\n",
              "</table>\n",
              "<p>3577 rows × 10 columns</p>\n",
              "</div>"
            ],
            "text/plain": [
              "                                     name  year  selling_price  km_driven  \\\n",
              "0                           Maruti 800 AC  2007          60000      70000   \n",
              "1                Maruti Wagon R LXI Minor  2007         135000      50000   \n",
              "2                    Hyundai Verna 1.6 SX  2012         600000     100000   \n",
              "3                  Datsun RediGO T Option  2017         250000      46000   \n",
              "4                   Honda Amaze VX i-DTEC  2014         450000     141000   \n",
              "...                                   ...   ...            ...        ...   \n",
              "4335  Hyundai i20 Magna 1.4 CRDi (Diesel)  2014         409999      80000   \n",
              "4336           Hyundai i20 Magna 1.4 CRDi  2014         409999      80000   \n",
              "4337                  Maruti 800 AC BSIII  2009         110000      83000   \n",
              "4338     Hyundai Creta 1.6 CRDi SX Option  2016         865000      90000   \n",
              "4339                     Renault KWID RXT  2016         225000      40000   \n",
              "\n",
              "        fuel seller_type transmission         owner  age  current  \n",
              "0     Petrol  Individual       Manual   First Owner   16     2023  \n",
              "1     Petrol  Individual       Manual   First Owner   16     2023  \n",
              "2     Diesel  Individual       Manual   First Owner   11     2023  \n",
              "3     Petrol  Individual       Manual   First Owner    6     2023  \n",
              "4     Diesel  Individual       Manual  Second Owner    9     2023  \n",
              "...      ...         ...          ...           ...  ...      ...  \n",
              "4335  Diesel  Individual       Manual  Second Owner    9     2023  \n",
              "4336  Diesel  Individual       Manual  Second Owner    9     2023  \n",
              "4337  Petrol  Individual       Manual  Second Owner   14     2023  \n",
              "4338  Diesel  Individual       Manual   First Owner    7     2023  \n",
              "4339  Petrol  Individual       Manual   First Owner    7     2023  \n",
              "\n",
              "[3577 rows x 10 columns]"
            ]
          },
          "execution_count": 20,
          "metadata": {},
          "output_type": "execute_result"
        }
      ],
      "source": [
        "car"
      ]
    },
    {
      "cell_type": "markdown",
      "metadata": {
        "id": "KDCXAxFSmGil"
      },
      "source": [
        "## **Drop all non required or repeative data**"
      ]
    },
    {
      "cell_type": "code",
      "execution_count": 21,
      "metadata": {
        "id": "KxbFeTfvmDOm"
      },
      "outputs": [
        {
          "data": {
            "text/html": [
              "<div>\n",
              "<style scoped>\n",
              "    .dataframe tbody tr th:only-of-type {\n",
              "        vertical-align: middle;\n",
              "    }\n",
              "\n",
              "    .dataframe tbody tr th {\n",
              "        vertical-align: top;\n",
              "    }\n",
              "\n",
              "    .dataframe thead th {\n",
              "        text-align: right;\n",
              "    }\n",
              "</style>\n",
              "<table border=\"1\" class=\"dataframe\">\n",
              "  <thead>\n",
              "    <tr style=\"text-align: right;\">\n",
              "      <th></th>\n",
              "      <th>name</th>\n",
              "      <th>selling_price</th>\n",
              "      <th>km_driven</th>\n",
              "      <th>fuel</th>\n",
              "      <th>seller_type</th>\n",
              "      <th>transmission</th>\n",
              "      <th>owner</th>\n",
              "      <th>age</th>\n",
              "    </tr>\n",
              "  </thead>\n",
              "  <tbody>\n",
              "    <tr>\n",
              "      <th>0</th>\n",
              "      <td>Maruti 800 AC</td>\n",
              "      <td>60000</td>\n",
              "      <td>70000</td>\n",
              "      <td>Petrol</td>\n",
              "      <td>Individual</td>\n",
              "      <td>Manual</td>\n",
              "      <td>First Owner</td>\n",
              "      <td>16</td>\n",
              "    </tr>\n",
              "    <tr>\n",
              "      <th>1</th>\n",
              "      <td>Maruti Wagon R LXI Minor</td>\n",
              "      <td>135000</td>\n",
              "      <td>50000</td>\n",
              "      <td>Petrol</td>\n",
              "      <td>Individual</td>\n",
              "      <td>Manual</td>\n",
              "      <td>First Owner</td>\n",
              "      <td>16</td>\n",
              "    </tr>\n",
              "    <tr>\n",
              "      <th>2</th>\n",
              "      <td>Hyundai Verna 1.6 SX</td>\n",
              "      <td>600000</td>\n",
              "      <td>100000</td>\n",
              "      <td>Diesel</td>\n",
              "      <td>Individual</td>\n",
              "      <td>Manual</td>\n",
              "      <td>First Owner</td>\n",
              "      <td>11</td>\n",
              "    </tr>\n",
              "    <tr>\n",
              "      <th>3</th>\n",
              "      <td>Datsun RediGO T Option</td>\n",
              "      <td>250000</td>\n",
              "      <td>46000</td>\n",
              "      <td>Petrol</td>\n",
              "      <td>Individual</td>\n",
              "      <td>Manual</td>\n",
              "      <td>First Owner</td>\n",
              "      <td>6</td>\n",
              "    </tr>\n",
              "    <tr>\n",
              "      <th>4</th>\n",
              "      <td>Honda Amaze VX i-DTEC</td>\n",
              "      <td>450000</td>\n",
              "      <td>141000</td>\n",
              "      <td>Diesel</td>\n",
              "      <td>Individual</td>\n",
              "      <td>Manual</td>\n",
              "      <td>Second Owner</td>\n",
              "      <td>9</td>\n",
              "    </tr>\n",
              "  </tbody>\n",
              "</table>\n",
              "</div>"
            ],
            "text/plain": [
              "                       name  selling_price  km_driven    fuel seller_type  \\\n",
              "0             Maruti 800 AC          60000      70000  Petrol  Individual   \n",
              "1  Maruti Wagon R LXI Minor         135000      50000  Petrol  Individual   \n",
              "2      Hyundai Verna 1.6 SX         600000     100000  Diesel  Individual   \n",
              "3    Datsun RediGO T Option         250000      46000  Petrol  Individual   \n",
              "4     Honda Amaze VX i-DTEC         450000     141000  Diesel  Individual   \n",
              "\n",
              "  transmission         owner  age  \n",
              "0       Manual   First Owner   16  \n",
              "1       Manual   First Owner   16  \n",
              "2       Manual   First Owner   11  \n",
              "3       Manual   First Owner    6  \n",
              "4       Manual  Second Owner    9  "
            ]
          },
          "execution_count": 21,
          "metadata": {},
          "output_type": "execute_result"
        }
      ],
      "source": [
        "car.drop(['current','year'],axis=1,inplace=True)\n",
        "car.head()"
      ]
    },
    {
      "cell_type": "code",
      "execution_count": 22,
      "metadata": {
        "id": "eF52y8UXmjr0"
      },
      "outputs": [
        {
          "name": "stdout",
          "output_type": "stream",
          "text": [
            "<class 'pandas.core.frame.DataFrame'>\n",
            "Index: 3577 entries, 0 to 4339\n",
            "Data columns (total 8 columns):\n",
            " #   Column         Non-Null Count  Dtype \n",
            "---  ------         --------------  ----- \n",
            " 0   name           3577 non-null   object\n",
            " 1   selling_price  3577 non-null   int64 \n",
            " 2   km_driven      3577 non-null   int64 \n",
            " 3   fuel           3577 non-null   object\n",
            " 4   seller_type    3577 non-null   object\n",
            " 5   transmission   3577 non-null   object\n",
            " 6   owner          3577 non-null   object\n",
            " 7   age            3577 non-null   int64 \n",
            "dtypes: int64(3), object(5)\n",
            "memory usage: 251.5+ KB\n"
          ]
        }
      ],
      "source": [
        "car.info()"
      ]
    },
    {
      "cell_type": "markdown",
      "metadata": {
        "id": "dAC73XgNnDjA"
      },
      "source": [
        "# **removing outlires**"
      ]
    },
    {
      "cell_type": "code",
      "execution_count": 23,
      "metadata": {
        "id": "JE7HUiQhnlq5"
      },
      "outputs": [
        {
          "data": {
            "text/plain": [
              "<Axes: >"
            ]
          },
          "execution_count": 23,
          "metadata": {},
          "output_type": "execute_result"
        },
        {
          "data": {
            "image/png": "[encoded data removed]",
            "text/plain": [
              "<Figure size 640x480 with 1 Axes>"
            ]
          },
          "metadata": {},
          "output_type": "display_data"
        }
      ],
      "source": [
        "import seaborn as sns\n",
        "sns.boxplot(car['selling_price'])"
      ]
    },
    {
      "cell_type": "code",
      "execution_count": 24,
      "metadata": {
        "id": "V2ZUH_Q_m_8A"
      },
      "outputs": [
        {
          "name": "stdout",
          "output_type": "stream",
          "text": [
            "0        60000\n",
            "1       135000\n",
            "2       600000\n",
            "3       250000\n",
            "4       450000\n",
            "         ...  \n",
            "4335    409999\n",
            "4336    409999\n",
            "4337    110000\n",
            "4338    865000\n",
            "4339    225000\n",
            "Name: selling_price, Length: 3577, dtype: int64\n"
          ]
        }
      ],
      "source": [
        "print(car['selling_price'])"
      ]
    },
    {
      "cell_type": "code",
      "execution_count": 25,
      "metadata": {
        "id": "sm2iZKTep_kJ"
      },
      "outputs": [
        {
          "data": {
            "text/plain": [
              "[8900000,\n",
              " 8150000,\n",
              " 5500000,\n",
              " 4950000,\n",
              " 4800000,\n",
              " 4800000,\n",
              " 4700000,\n",
              " 4500000,\n",
              " 4500000,\n",
              " 4400000,\n",
              " 4200000,\n",
              " 4000000,\n",
              " 4000000,\n",
              " 4000000,\n",
              " 3899000,\n",
              " 3800000,\n",
              " 3500000,\n",
              " 3500000,\n",
              " 3256000,\n",
              " 3200000,\n",
              " 3200000,\n",
              " 3200000,\n",
              " 3100000,\n",
              " 3100000,\n",
              " 3050000,\n",
              " 2900000,\n",
              " 2800000,\n",
              " 2800000,\n",
              " 2800000,\n",
              " 2800000,\n",
              " 2750000,\n",
              " 2750000,\n",
              " 2700000,\n",
              " 2700000,\n",
              " 2700000,\n",
              " 2675000,\n",
              " 2675000,\n",
              " 2650000,\n",
              " 2600000,\n",
              " 2600000,\n",
              " 2595000,\n",
              " 2575000,\n",
              " 2550000,\n",
              " 2500000,\n",
              " 2500000,\n",
              " 2500000,\n",
              " 2500000,\n",
              " 2490000,\n",
              " 2400000,\n",
              " 2349000,\n",
              " 2300000,\n",
              " 2300000,\n",
              " 2200000,\n",
              " 2150000,\n",
              " 2100000,\n",
              " 2050000,\n",
              " 2000000,\n",
              " 2000000,\n",
              " 2000000,\n",
              " 2000000,\n",
              " 1975000,\n",
              " 1964999,\n",
              " 1950000,\n",
              " 1900000,\n",
              " 1900000,\n",
              " 1900000,\n",
              " 1900000,\n",
              " 1860000,\n",
              " 1850000,\n",
              " 1850000,\n",
              " 1825000,\n",
              " 1800000,\n",
              " 1800000,\n",
              " 1800000,\n",
              " 1800000,\n",
              " 1800000,\n",
              " 1800000,\n",
              " 1800000,\n",
              " 1770000,\n",
              " 1750000,\n",
              " 1750000,\n",
              " 1750000,\n",
              " 1735000,\n",
              " 1725000,\n",
              " 1700000,\n",
              " 1700000,\n",
              " 1700000,\n",
              " 1700000,\n",
              " 1700000,\n",
              " 1700000,\n",
              " 1680000,\n",
              " 1650000,\n",
              " 1650000,\n",
              " 1600000,\n",
              " 1600000,\n",
              " 1600000,\n",
              " 1580000,\n",
              " 1575000,\n",
              " 1550000,\n",
              " 1549000,\n",
              " 1500000,\n",
              " 1500000,\n",
              " 1500000,\n",
              " 1500000,\n",
              " 1500000,\n",
              " 1500000,\n",
              " 1500000,\n",
              " 1500000,\n",
              " 1490000,\n",
              " 1490000,\n",
              " 1490000,\n",
              " 1485000,\n",
              " 1475000,\n",
              " 1470000,\n",
              " 1451000,\n",
              " 1450000,\n",
              " 1425000,\n",
              " 1400000,\n",
              " 1400000,\n",
              " 1400000,\n",
              " 1400000,\n",
              " 1400000,\n",
              " 1400000,\n",
              " 1400000,\n",
              " 1400000,\n",
              " 1400000,\n",
              " 1380000,\n",
              " 1375000,\n",
              " 1375000,\n",
              " 1350000,\n",
              " 1350000,\n",
              " 1350000,\n",
              " 1350000,\n",
              " 1350000,\n",
              " 1350000,\n",
              " 1350000,\n",
              " 1334000,\n",
              " 1331000,\n",
              " 1330000,\n",
              " 1300000,\n",
              " 1300000,\n",
              " 1300000,\n",
              " 1300000,\n",
              " 1300000,\n",
              " 1300000,\n",
              " 1300000,\n",
              " 1300000,\n",
              " 1300000,\n",
              " 1295000,\n",
              " 1295000,\n",
              " 1290000,\n",
              " 1280000,\n",
              " 1260000,\n",
              " 1250000,\n",
              " 1250000,\n",
              " 1250000,\n",
              " 1250000,\n",
              " 1250000,\n",
              " 1250000,\n",
              " 1250000,\n",
              " 1250000,\n",
              " 1250000,\n",
              " 1250000,\n",
              " 1250000,\n",
              " 1249000,\n",
              " 1249000,\n",
              " 1240000,\n",
              " 1230000,\n",
              " 1225000,\n",
              " 1225000,\n",
              " 1200000,\n",
              " 1200000,\n",
              " 1200000,\n",
              " 1200000,\n",
              " 1200000,\n",
              " 1200000,\n",
              " 1200000,\n",
              " 1200000,\n",
              " 1200000,\n",
              " 1200000,\n",
              " 1200000,\n",
              " 1200000,\n",
              " 1200000,\n",
              " 1200000,\n",
              " 1200000,\n",
              " 1199000,\n",
              " 1195000,\n",
              " 1190000,\n",
              " 1189000,\n",
              " 1165000,\n",
              " 1151000,\n",
              " 1150000,\n",
              " 1150000,\n",
              " 1150000,\n",
              " 1150000,\n",
              " 1150000,\n",
              " 1150000,\n",
              " 1150000,\n",
              " 1150000,\n",
              " 1150000,\n",
              " 1150000,\n",
              " 1150000,\n",
              " 1140000,\n",
              " 1125000,\n",
              " 1119000,\n",
              " 1100000,\n",
              " 1100000,\n",
              " 1100000,\n",
              " 1100000,\n",
              " 1100000,\n",
              " 1100000,\n",
              " 1100000,\n",
              " 1100000,\n",
              " 1100000,\n",
              " 1100000,\n",
              " 1100000,\n",
              " 1100000,\n",
              " 1100000,\n",
              " 1100000,\n",
              " 1100000,\n",
              " 1090000,\n",
              " 1085000,\n",
              " 1075000,\n",
              " 1068000,\n",
              " 1050000,\n",
              " 1050000,\n",
              " 1050000,\n",
              " 1050000,\n",
              " 1050000,\n",
              " 1050000,\n",
              " 1050000,\n",
              " 1050000,\n",
              " 1050000,\n",
              " 1044999,\n",
              " 1044999,\n",
              " 1040000,\n",
              " 1035000,\n",
              " 1030000,\n",
              " 1030000,\n",
              " 1025000,\n",
              " 1025000,\n",
              " 1025000,\n",
              " 1025000,\n",
              " 1025000,\n",
              " 1015000,\n",
              " 1010000,\n",
              " 1000000,\n",
              " 1000000,\n",
              " 1000000,\n",
              " 1000000,\n",
              " 1000000,\n",
              " 1000000,\n",
              " 1000000,\n",
              " 1000000,\n",
              " 1000000,\n",
              " 1000000,\n",
              " 1000000,\n",
              " 1000000,\n",
              " 1000000,\n",
              " 1000000,\n",
              " 1000000,\n",
              " 1000000,\n",
              " 1000000,\n",
              " 1000000,\n",
              " 1000000,\n",
              " 1000000,\n",
              " 1000000,\n",
              " 1000000,\n",
              " 1000000,\n",
              " 1000000,\n",
              " 1000000,\n",
              " 1000000,\n",
              " 1000000,\n",
              " 1000000,\n",
              " 1000000,\n",
              " 999000,\n",
              " 990000,\n",
              " 980000,\n",
              " 980000,\n",
              " 975000,\n",
              " 975000,\n",
              " 969999,\n",
              " 969999,\n",
              " 950000,\n",
              " 950000,\n",
              " 950000,\n",
              " 950000,\n",
              " 950000,\n",
              " 950000,\n",
              " 950000,\n",
              " 950000,\n",
              " 950000,\n",
              " 950000,\n",
              " 950000,\n",
              " 950000,\n",
              " 950000,\n",
              " 950000,\n",
              " 950000,\n",
              " 950000,\n",
              " 950000,\n",
              " 950000,\n",
              " 950000,\n",
              " 950000,\n",
              " 940000,\n",
              " 940000,\n",
              " 940000,\n",
              " 940000,\n",
              " 940000,\n",
              " 936999,\n",
              " 930000,\n",
              " 930000,\n",
              " 930000,\n",
              " 927999,\n",
              " 925000,\n",
              " 925000,\n",
              " 925000,\n",
              " 925000,\n",
              " 925000,\n",
              " 925000,\n",
              " 925000,\n",
              " 925000,\n",
              " 919999,\n",
              " 919999,\n",
              " 910000,\n",
              " 900000,\n",
              " 900000,\n",
              " 900000,\n",
              " 900000,\n",
              " 900000,\n",
              " 900000,\n",
              " 900000,\n",
              " 900000,\n",
              " 900000,\n",
              " 900000,\n",
              " 900000,\n",
              " 900000,\n",
              " 900000,\n",
              " 900000,\n",
              " 900000,\n",
              " 900000,\n",
              " 900000,\n",
              " 900000,\n",
              " 900000,\n",
              " 900000,\n",
              " 900000,\n",
              " 900000,\n",
              " 894999,\n",
              " 894999,\n",
              " 890000,\n",
              " 890000,\n",
              " 890000,\n",
              " 890000,\n",
              " 890000,\n",
              " 890000,\n",
              " 890000,\n",
              " 880000,\n",
              " 875000,\n",
              " 875000,\n",
              " 875000,\n",
              " 875000,\n",
              " 869999,\n",
              " 869999,\n",
              " 865000,\n",
              " 861999,\n",
              " 860000,\n",
              " 860000,\n",
              " 860000,\n",
              " 852000,\n",
              " 851000,\n",
              " 850000,\n",
              " 850000,\n",
              " 850000,\n",
              " 850000,\n",
              " 850000,\n",
              " 850000,\n",
              " 850000,\n",
              " 850000,\n",
              " 850000,\n",
              " 850000,\n",
              " 850000,\n",
              " 850000,\n",
              " 850000,\n",
              " 850000,\n",
              " 850000,\n",
              " 850000,\n",
              " 850000,\n",
              " 850000,\n",
              " 850000,\n",
              " 850000,\n",
              " 850000,\n",
              " 850000,\n",
              " 844999,\n",
              " 844999,\n",
              " 841000,\n",
              " 840000,\n",
              " 840000,\n",
              " 840000,\n",
              " 836000,\n",
              " 836000,\n",
              " 835000,\n",
              " 830000,\n",
              " 830000,\n",
              " 830000,\n",
              " 830000,\n",
              " 828999,\n",
              " 825000,\n",
              " 825000,\n",
              " 825000,\n",
              " 825000,\n",
              " 825000,\n",
              " 825000,\n",
              " 825000,\n",
              " 825000,\n",
              " 821000,\n",
              " 819999,\n",
              " 819999,\n",
              " 819999,\n",
              " 819999,\n",
              " 815000,\n",
              " 811999,\n",
              " 810000,\n",
              " 802000,\n",
              " 800000,\n",
              " 800000,\n",
              " 800000,\n",
              " 800000,\n",
              " 800000,\n",
              " 800000,\n",
              " 800000,\n",
              " 800000,\n",
              " 800000,\n",
              " 800000,\n",
              " 800000,\n",
              " 800000,\n",
              " 800000,\n",
              " 800000,\n",
              " 800000,\n",
              " 800000,\n",
              " 800000,\n",
              " 800000,\n",
              " 800000,\n",
              " 800000,\n",
              " 800000,\n",
              " 800000,\n",
              " 800000,\n",
              " 800000,\n",
              " 800000,\n",
              " 800000,\n",
              " 800000,\n",
              " 800000,\n",
              " 800000,\n",
              " 800000,\n",
              " 800000,\n",
              " 800000,\n",
              " 800000,\n",
              " 800000,\n",
              " 800000,\n",
              " 800000,\n",
              " 800000,\n",
              " 800000,\n",
              " 800000,\n",
              " 800000,\n",
              " 800000,\n",
              " 800000,\n",
              " 800000,\n",
              " 800000,\n",
              " 800000,\n",
              " 799000,\n",
              " 795000,\n",
              " 795000,\n",
              " 790000,\n",
              " 790000,\n",
              " 790000,\n",
              " 790000,\n",
              " 790000,\n",
              " 790000,\n",
              " 790000,\n",
              " 785000,\n",
              " 785000,\n",
              " 784000,\n",
              " 784000,\n",
              " 782000,\n",
              " 782000,\n",
              " 780000,\n",
              " 780000,\n",
              " 780000,\n",
              " 780000,\n",
              " 780000,\n",
              " 780000,\n",
              " 780000,\n",
              " 780000,\n",
              " 775000,\n",
              " 775000,\n",
              " 775000,\n",
              " 774000,\n",
              " 770000,\n",
              " 770000,\n",
              " 765000,\n",
              " 763000,\n",
              " 760000,\n",
              " 760000,\n",
              " 760000,\n",
              " 760000,\n",
              " 760000,\n",
              " 755000,\n",
              " 751000,\n",
              " 750000,\n",
              " 750000,\n",
              " 750000,\n",
              " 750000,\n",
              " 750000,\n",
              " 750000,\n",
              " 750000,\n",
              " 750000,\n",
              " 750000,\n",
              " 750000,\n",
              " 750000,\n",
              " 750000,\n",
              " 750000,\n",
              " 750000,\n",
              " 750000,\n",
              " 750000,\n",
              " 750000,\n",
              " 750000,\n",
              " 750000,\n",
              " 750000,\n",
              " 750000,\n",
              " 750000,\n",
              " 750000,\n",
              " 750000,\n",
              " 750000,\n",
              " 750000,\n",
              " 750000,\n",
              " 750000,\n",
              " 750000,\n",
              " 750000,\n",
              " 750000,\n",
              " 750000,\n",
              " 750000,\n",
              " 750000,\n",
              " 750000,\n",
              " 750000,\n",
              " 750000,\n",
              " 750000,\n",
              " 749000,\n",
              " 746000,\n",
              " 744000,\n",
              " 740000,\n",
              " 740000,\n",
              " 740000,\n",
              " 738000,\n",
              " 735000,\n",
              " 730000,\n",
              " 730000,\n",
              " 730000,\n",
              " 725000,\n",
              " 725000,\n",
              " 725000,\n",
              " 725000,\n",
              " 725000,\n",
              " 725000,\n",
              " 725000,\n",
              " 725000,\n",
              " 725000,\n",
              " 725000,\n",
              " 725000,\n",
              " 725000,\n",
              " 725000,\n",
              " 724000,\n",
              " 721000,\n",
              " 720000,\n",
              " 720000,\n",
              " 720000,\n",
              " 720000,\n",
              " 720000,\n",
              " 716000,\n",
              " 715000,\n",
              " 715000,\n",
              " 715000,\n",
              " 715000,\n",
              " 711000,\n",
              " 711000,\n",
              " 710000,\n",
              " 710000,\n",
              " 710000,\n",
              " 707000,\n",
              " 701000,\n",
              " 700000,\n",
              " 700000,\n",
              " 700000,\n",
              " 700000,\n",
              " 700000,\n",
              " 700000,\n",
              " 700000,\n",
              " 700000,\n",
              " 700000,\n",
              " 700000,\n",
              " 700000,\n",
              " 700000,\n",
              " 700000,\n",
              " 700000,\n",
              " 700000,\n",
              " 700000,\n",
              " 700000,\n",
              " 700000,\n",
              " 700000,\n",
              " 700000,\n",
              " 700000,\n",
              " 700000,\n",
              " 700000,\n",
              " 700000,\n",
              " 700000,\n",
              " 700000,\n",
              " 700000,\n",
              " 700000,\n",
              " 700000,\n",
              " 700000,\n",
              " 700000,\n",
              " 700000,\n",
              " 700000,\n",
              " 700000,\n",
              " 700000,\n",
              " 700000,\n",
              " 700000,\n",
              " 700000,\n",
              " 700000,\n",
              " 700000,\n",
              " 700000,\n",
              " 700000,\n",
              " 700000,\n",
              " 700000,\n",
              " 700000,\n",
              " 700000,\n",
              " 700000,\n",
              " 700000,\n",
              " 700000,\n",
              " 700000,\n",
              " 700000,\n",
              " 700000,\n",
              " 699000,\n",
              " 699000,\n",
              " 699000,\n",
              " 696000,\n",
              " 695000,\n",
              " 690000,\n",
              " 690000,\n",
              " 690000,\n",
              " 690000,\n",
              " 690000,\n",
              " 690000,\n",
              " 690000,\n",
              " 690000,\n",
              " 690000,\n",
              " 685000,\n",
              " 685000,\n",
              " 685000,\n",
              " 680000,\n",
              " 680000,\n",
              " 680000,\n",
              " 680000,\n",
              " 680000,\n",
              " 680000,\n",
              " 680000,\n",
              " 675000,\n",
              " 675000,\n",
              " 675000,\n",
              " 675000,\n",
              " 675000,\n",
              " 675000,\n",
              " 675000,\n",
              " 675000,\n",
              " 675000,\n",
              " 675000,\n",
              " 675000,\n",
              " 675000,\n",
              " 670000,\n",
              " 670000,\n",
              " 670000,\n",
              " 670000,\n",
              " 665000,\n",
              " 665000,\n",
              " 665000,\n",
              " 665000,\n",
              " 665000,\n",
              " 665000,\n",
              " 660000,\n",
              " 660000,\n",
              " 660000,\n",
              " 660000,\n",
              " 660000,\n",
              " 660000,\n",
              " 655000,\n",
              " 655000,\n",
              " 650000,\n",
              " 650000,\n",
              " 650000,\n",
              " 650000,\n",
              " 650000,\n",
              " 650000,\n",
              " 650000,\n",
              " 650000,\n",
              " 650000,\n",
              " 650000,\n",
              " 650000,\n",
              " 650000,\n",
              " 650000,\n",
              " 650000,\n",
              " 650000,\n",
              " 650000,\n",
              " 650000,\n",
              " 650000,\n",
              " 650000,\n",
              " 650000,\n",
              " 650000,\n",
              " 650000,\n",
              " 650000,\n",
              " 650000,\n",
              " 650000,\n",
              " 650000,\n",
              " 650000,\n",
              " 650000,\n",
              " 650000,\n",
              " 650000,\n",
              " 650000,\n",
              " 650000,\n",
              " 650000,\n",
              " 650000,\n",
              " 650000,\n",
              " 650000,\n",
              " 650000,\n",
              " 650000,\n",
              " 650000,\n",
              " 650000,\n",
              " 650000,\n",
              " 650000,\n",
              " 650000,\n",
              " 650000,\n",
              " 650000,\n",
              " 650000,\n",
              " 650000,\n",
              " 650000,\n",
              " 650000,\n",
              " 650000,\n",
              " 650000,\n",
              " 650000,\n",
              " 650000,\n",
              " 650000,\n",
              " 650000,\n",
              " 650000,\n",
              " 650000,\n",
              " 650000,\n",
              " 650000,\n",
              " 650000,\n",
              " 650000,\n",
              " 650000,\n",
              " 650000,\n",
              " 650000,\n",
              " 650000,\n",
              " 641000,\n",
              " 640000,\n",
              " 640000,\n",
              " 640000,\n",
              " 640000,\n",
              " 640000,\n",
              " 640000,\n",
              " 640000,\n",
              " 640000,\n",
              " 640000,\n",
              " 639000,\n",
              " 635000,\n",
              " 635000,\n",
              " 635000,\n",
              " 630000,\n",
              " 630000,\n",
              " 630000,\n",
              " 630000,\n",
              " 630000,\n",
              " 630000,\n",
              " 630000,\n",
              " 630000,\n",
              " 628000,\n",
              " 625000,\n",
              " 625000,\n",
              " 625000,\n",
              " 625000,\n",
              " 625000,\n",
              " 625000,\n",
              " 625000,\n",
              " 625000,\n",
              " 625000,\n",
              " 625000,\n",
              " 624000,\n",
              " 620000,\n",
              " 620000,\n",
              " 620000,\n",
              " 620000,\n",
              " 620000,\n",
              " 620000,\n",
              " 620000,\n",
              " 620000,\n",
              " 620000,\n",
              " 619000,\n",
              " 619000,\n",
              " 615000,\n",
              " 615000,\n",
              " 615000,\n",
              " 615000,\n",
              " 614000,\n",
              " 612000,\n",
              " 611000,\n",
              " 610000,\n",
              " 610000,\n",
              " 610000,\n",
              " 610000,\n",
              " 610000,\n",
              " 610000,\n",
              " 610000,\n",
              " 600000,\n",
              " 600000,\n",
              " 600000,\n",
              " 600000,\n",
              " 600000,\n",
              " 600000,\n",
              " 600000,\n",
              " 600000,\n",
              " 600000,\n",
              " 600000,\n",
              " 600000,\n",
              " 600000,\n",
              " 600000,\n",
              " 600000,\n",
              " 600000,\n",
              " 600000,\n",
              " 600000,\n",
              " 600000,\n",
              " 600000,\n",
              " 600000,\n",
              " 600000,\n",
              " 600000,\n",
              " 600000,\n",
              " 600000,\n",
              " 600000,\n",
              " 600000,\n",
              " 600000,\n",
              " 600000,\n",
              " 600000,\n",
              " 600000,\n",
              " 600000,\n",
              " 600000,\n",
              " 600000,\n",
              " 600000,\n",
              " 600000,\n",
              " 600000,\n",
              " 600000,\n",
              " 600000,\n",
              " 600000,\n",
              " 600000,\n",
              " 600000,\n",
              " 600000,\n",
              " 600000,\n",
              " 600000,\n",
              " 600000,\n",
              " 600000,\n",
              " 600000,\n",
              " 600000,\n",
              " 600000,\n",
              " 600000,\n",
              " 600000,\n",
              " 600000,\n",
              " 600000,\n",
              " 600000,\n",
              " 600000,\n",
              " 600000,\n",
              " 600000,\n",
              " 600000,\n",
              " 600000,\n",
              " 600000,\n",
              " 600000,\n",
              " 600000,\n",
              " 600000,\n",
              " 600000,\n",
              " 600000,\n",
              " 600000,\n",
              " 600000,\n",
              " 600000,\n",
              " 600000,\n",
              " 600000,\n",
              " 600000,\n",
              " 600000,\n",
              " 600000,\n",
              " 600000,\n",
              " 600000,\n",
              " 600000,\n",
              " 600000,\n",
              " 600000,\n",
              " 600000,\n",
              " 600000,\n",
              " 600000,\n",
              " 600000,\n",
              " 600000,\n",
              " 600000,\n",
              " 599000,\n",
              " 599000,\n",
              " 599000,\n",
              " 596000,\n",
              " 595000,\n",
              " 595000,\n",
              " 595000,\n",
              " 595000,\n",
              " 590000,\n",
              " 590000,\n",
              " 590000,\n",
              " 590000,\n",
              " 587000,\n",
              " 585000,\n",
              " 585000,\n",
              " 585000,\n",
              " 585000,\n",
              " 585000,\n",
              " 585000,\n",
              " 580000,\n",
              " 580000,\n",
              " 580000,\n",
              " 580000,\n",
              " 580000,\n",
              " 580000,\n",
              " 580000,\n",
              " 580000,\n",
              " 580000,\n",
              " 580000,\n",
              " 580000,\n",
              " 580000,\n",
              " 575000,\n",
              " 575000,\n",
              " 575000,\n",
              " 575000,\n",
              " 575000,\n",
              " 575000,\n",
              " 575000,\n",
              " 575000,\n",
              " 575000,\n",
              " 575000,\n",
              " 575000,\n",
              " 575000,\n",
              " 570000,\n",
              " 570000,\n",
              " 570000,\n",
              " 570000,\n",
              " 570000,\n",
              " 570000,\n",
              " 565000,\n",
              " 565000,\n",
              " 565000,\n",
              " 565000,\n",
              " 560000,\n",
              " 560000,\n",
              " 556000,\n",
              " 555000,\n",
              " 555000,\n",
              " 550000,\n",
              " 550000,\n",
              " 550000,\n",
              " 550000,\n",
              " 550000,\n",
              " 550000,\n",
              " 550000,\n",
              " 550000,\n",
              " 550000,\n",
              " 550000,\n",
              " 550000,\n",
              " 550000,\n",
              " 550000,\n",
              " 550000,\n",
              " 550000,\n",
              " 550000,\n",
              " 550000,\n",
              " 550000,\n",
              " 550000,\n",
              " 550000,\n",
              " 550000,\n",
              " 550000,\n",
              " 550000,\n",
              " 550000,\n",
              " 550000,\n",
              " 550000,\n",
              " 550000,\n",
              " 550000,\n",
              " 550000,\n",
              " 550000,\n",
              " 550000,\n",
              " 550000,\n",
              " 550000,\n",
              " 550000,\n",
              " 550000,\n",
              " 550000,\n",
              " 550000,\n",
              " 550000,\n",
              " 550000,\n",
              " 550000,\n",
              " 550000,\n",
              " ...]"
            ]
          },
          "execution_count": 25,
          "metadata": {},
          "output_type": "execute_result"
        }
      ],
      "source": [
        "sorted(car['selling_price'],reverse=True)"
      ]
    },
    {
      "cell_type": "code",
      "execution_count": 26,
      "metadata": {
        "id": "prqkfeJFobLc"
      },
      "outputs": [
        {
          "name": "stdout",
          "output_type": "stream",
          "text": [
            "(array([  76, 3257, 3341], dtype=int64),)\n"
          ]
        }
      ],
      "source": [
        "print(np.where(car['selling_price']> 4950000))"
      ]
    },
    {
      "cell_type": "code",
      "execution_count": 27,
      "metadata": {
        "id": "uTzwAyy7ow3S"
      },
      "outputs": [],
      "source": [
        "car=car[~(car['selling_price']>=8150000) & (car['selling_price']<=8900000)]"
      ]
    },
    {
      "cell_type": "code",
      "execution_count": 28,
      "metadata": {
        "id": "VXLhhL_6lLZw"
      },
      "outputs": [
        {
          "data": {
            "text/plain": [
              "(3575, 8)"
            ]
          },
          "execution_count": 28,
          "metadata": {},
          "output_type": "execute_result"
        }
      ],
      "source": [
        "car.shape"
      ]
    },
    {
      "cell_type": "markdown",
      "metadata": {
        "id": "vSE1ApDtlaFE"
      },
      "source": [
        "# **EXPLORATORY DATA ANALYSIS on traning**"
      ]
    },
    {
      "cell_type": "code",
      "execution_count": 29,
      "metadata": {
        "id": "xX0zCSM8lPTp"
      },
      "outputs": [
        {
          "data": {
            "text/plain": [
              "Index(['name', 'selling_price', 'km_driven', 'fuel', 'seller_type',\n",
              "       'transmission', 'owner', 'age'],\n",
              "      dtype='object')"
            ]
          },
          "execution_count": 29,
          "metadata": {},
          "output_type": "execute_result"
        }
      ],
      "source": [
        "car.columns"
      ]
    },
    {
      "cell_type": "markdown",
      "metadata": {
        "id": "C5_j_F5nnDrG"
      },
      "source": [
        "### **Convert in 'category' data type**"
      ]
    },
    {
      "cell_type": "code",
      "execution_count": 30,
      "metadata": {
        "id": "wp0-8eYio9gk"
      },
      "outputs": [],
      "source": [
        "car1=car.copy()"
      ]
    },
    {
      "cell_type": "code",
      "execution_count": 31,
      "metadata": {
        "id": "1zTm775bpGWy"
      },
      "outputs": [],
      "source": [
        "car1['fuel']=car1['fuel'].astype('category')\n",
        "car1['seller_type']=car1['seller_type'].astype('category')\n",
        "car1['transmission']=car1['transmission'].astype('category')\n",
        "car1['owner']=car1['owner'].astype('category')"
      ]
    },
    {
      "cell_type": "code",
      "execution_count": 32,
      "metadata": {
        "id": "zTPBaziTlrkz"
      },
      "outputs": [],
      "source": [
        "fuel=car['fuel']\n",
        "seller_type=car['seller_type']\n",
        "transmission=car['transmission']\n",
        "selling_price=car['selling_price']\n",
        "owner=car['owner']\n",
        "\n",
        "#car['fuel']=car['fuel'].astype('category')\n",
        "#car['seller_type']=car['seller_type'].astype('category')\n",
        "#car['transmission']=car['transmission'].astype('category')\n",
        "#car['owner']=car['owner'].astype('category')"
      ]
    },
    {
      "cell_type": "code",
      "execution_count": 33,
      "metadata": {
        "id": "O1LeaTBAoLdL"
      },
      "outputs": [
        {
          "name": "stdout",
          "output_type": "stream",
          "text": [
            "<class 'pandas.core.frame.DataFrame'>\n",
            "Index: 3575 entries, 0 to 4339\n",
            "Data columns (total 8 columns):\n",
            " #   Column         Non-Null Count  Dtype \n",
            "---  ------         --------------  ----- \n",
            " 0   name           3575 non-null   object\n",
            " 1   selling_price  3575 non-null   int64 \n",
            " 2   km_driven      3575 non-null   int64 \n",
            " 3   fuel           3575 non-null   object\n",
            " 4   seller_type    3575 non-null   object\n",
            " 5   transmission   3575 non-null   object\n",
            " 6   owner          3575 non-null   object\n",
            " 7   age            3575 non-null   int64 \n",
            "dtypes: int64(3), object(5)\n",
            "memory usage: 251.4+ KB\n"
          ]
        }
      ],
      "source": [
        "car.info()"
      ]
    },
    {
      "cell_type": "code",
      "execution_count": 34,
      "metadata": {
        "id": "Wk51j-oZosbm"
      },
      "outputs": [
        {
          "name": "stdout",
          "output_type": "stream",
          "text": [
            "<class 'pandas.core.frame.DataFrame'>\n",
            "Index: 3577 entries, 0 to 4339\n",
            "Data columns (total 9 columns):\n",
            " #   Column         Non-Null Count  Dtype \n",
            "---  ------         --------------  ----- \n",
            " 0   name           3577 non-null   object\n",
            " 1   year           3577 non-null   int64 \n",
            " 2   selling_price  3577 non-null   int64 \n",
            " 3   km_driven      3577 non-null   int64 \n",
            " 4   fuel           3577 non-null   object\n",
            " 5   seller_type    3577 non-null   object\n",
            " 6   transmission   3577 non-null   object\n",
            " 7   owner          3577 non-null   object\n",
            " 8   age            3577 non-null   int64 \n",
            "dtypes: int64(4), object(5)\n",
            "memory usage: 408.5+ KB\n"
          ]
        }
      ],
      "source": [
        "df.info()"
      ]
    },
    {
      "cell_type": "code",
      "execution_count": 35,
      "metadata": {
        "id": "lQdIZeBAqBR4"
      },
      "outputs": [
        {
          "name": "stdout",
          "output_type": "stream",
          "text": [
            "<class 'pandas.core.frame.DataFrame'>\n",
            "Index: 3575 entries, 0 to 4339\n",
            "Data columns (total 8 columns):\n",
            " #   Column         Non-Null Count  Dtype   \n",
            "---  ------         --------------  -----   \n",
            " 0   name           3575 non-null   object  \n",
            " 1   selling_price  3575 non-null   int64   \n",
            " 2   km_driven      3575 non-null   int64   \n",
            " 3   fuel           3575 non-null   category\n",
            " 4   seller_type    3575 non-null   category\n",
            " 5   transmission   3575 non-null   category\n",
            " 6   owner          3575 non-null   category\n",
            " 7   age            3575 non-null   int64   \n",
            "dtypes: category(4), int64(3), object(1)\n",
            "memory usage: 154.3+ KB\n"
          ]
        }
      ],
      "source": [
        "car1.info()"
      ]
    },
    {
      "cell_type": "code",
      "execution_count": 36,
      "metadata": {
        "id": "ElZMQOYKqKSD"
      },
      "outputs": [],
      "source": [
        "from matplotlib import style"
      ]
    },
    {
      "cell_type": "code",
      "execution_count": 37,
      "metadata": {
        "id": "vZ4hYEo1tcme"
      },
      "outputs": [
        {
          "data": {
            "image/png": "[encoded data removed]",
            "text/plain": [
              "<Figure size 1500x500 with 4 Axes>"
            ]
          },
          "metadata": {},
          "output_type": "display_data"
        }
      ],
      "source": [
        "import matplotlib.pyplot as plt\n",
        "\n",
        "style.use('ggplot')\n",
        "fig=plt.figure(figsize=(15,5))\n",
        "fig.suptitle('Visualizing the categorical data by Bar Columns', color='k', fontweight='bold')\n",
        "plt.subplot(1,4,1)\n",
        "\n",
        "plt.bar(fuel,selling_price, color='royalblue')\n",
        "plt.xlabel('fuel type',fontweight='bold')\n",
        "plt.ylabel('selling price',fontweight='bold')\n",
        "plt.subplot(1,4,2)\n",
        "\n",
        "plt.bar(seller_type,selling_price,color='firebrick')\n",
        "plt.xlabel('seller type')\n",
        "plt.subplot(1,4,3)\n",
        "\n",
        "plt.bar(transmission,selling_price,color='green')\n",
        "plt.xlabel('transmission type')\n",
        "plt.subplot(1,4,4)\n",
        "\n",
        "plt.bar(owner,selling_price,color='purple')\n",
        "plt.xticks(rotation=90)\n",
        "plt.xlabel('types of owner')\n",
        "plt.show()"
      ]
    },
    {
      "cell_type": "markdown",
      "metadata": {
        "id": "k42Sn2Hs1DIc"
      },
      "source": [
        "#### **Encoding the Categorical Columns**"
      ]
    },
    {
      "cell_type": "code",
      "execution_count": 38,
      "metadata": {
        "id": "Y4D5dWph1NGy"
      },
      "outputs": [],
      "source": [
        "from sklearn.preprocessing import LabelEncoder"
      ]
    },
    {
      "cell_type": "code",
      "execution_count": 39,
      "metadata": {
        "id": "5yP0KJeRxEkV"
      },
      "outputs": [],
      "source": [
        "lb=LabelEncoder()"
      ]
    },
    {
      "cell_type": "code",
      "execution_count": 40,
      "metadata": {},
      "outputs": [],
      "source": [
        "df['name']=lb.fit_transform(df['name'])\n",
        "df['fuel']=lb.fit_transform(df['fuel'])\n",
        "df['seller_type']=lb.fit_transform(df['seller_type'])\n",
        "df['transmission']=lb.fit_transform(df['transmission'])\n",
        "df['owner']=lb.fit_transform(df['owner'])"
      ]
    },
    {
      "cell_type": "code",
      "execution_count": 41,
      "metadata": {
        "id": "AiFqQudVxRmh"
      },
      "outputs": [],
      "source": [
        "car['name']=lb.fit_transform(car['name'])\n",
        "car['fuel']=lb.fit_transform(car['fuel'])\n",
        "car['seller_type']=lb.fit_transform(car['seller_type'])\n",
        "car['transmission']=lb.fit_transform(car['transmission'])\n",
        "car['owner']=lb.fit_transform(car['owner'])"
      ]
    },
    {
      "cell_type": "markdown",
      "metadata": {
        "id": "VCBpOTBr2smb"
      },
      "source": [
        "# **Correlation Matrix**"
      ]
    },
    {
      "cell_type": "code",
      "execution_count": 42,
      "metadata": {
        "id": "AmEPEkbO2zep"
      },
      "outputs": [
        {
          "data": {
            "image/png": "[encoded data removed]",
            "text/plain": [
              "<Figure size 1000x400 with 2 Axes>"
            ]
          },
          "metadata": {},
          "output_type": "display_data"
        },
        {
          "data": {
            "image/png": "[encoded data removed]",
            "text/plain": [
              "<Figure size 1000x400 with 2 Axes>"
            ]
          },
          "metadata": {},
          "output_type": "display_data"
        }
      ],
      "source": [
        "plt.figure(figsize = (10,4))\n",
        "sns.heatmap(car.corr(), annot = True, cmap=\"RdBu\")\n",
        "plt.show()\n",
        "\n",
        "\n",
        "plt.figure(figsize = (10,4))\n",
        "sns.heatmap(df.corr(), annot = True, cmap=\"RdBu\")\n",
        "plt.show()"
      ]
    },
    {
      "cell_type": "markdown",
      "metadata": {
        "id": "_etmr8ll4yLJ"
      },
      "source": [
        "**RESCALING THE FEATURES**"
      ]
    },
    {
      "cell_type": "markdown",
      "metadata": {
        "id": "4bqgPlZy6L1C"
      },
      "source": [
        "# **SPLITTING and Testing THE DATA**"
      ]
    },
    {
      "cell_type": "code",
      "execution_count": 43,
      "metadata": {
        "id": "V5gii7Ef6rdu"
      },
      "outputs": [
        {
          "data": {
            "text/plain": [
              "(3575, 8)"
            ]
          },
          "execution_count": 43,
          "metadata": {},
          "output_type": "execute_result"
        }
      ],
      "source": [
        "car1.shape"
      ]
    },
    {
      "cell_type": "code",
      "execution_count": 44,
      "metadata": {
        "id": "-SOQW-ux8oeh"
      },
      "outputs": [
        {
          "name": "stdout",
          "output_type": "stream",
          "text": [
            "<class 'pandas.core.frame.DataFrame'>\n",
            "<class 'pandas.core.series.Series'>\n",
            "(3575, 7)\n",
            "(3575,)\n"
          ]
        }
      ],
      "source": [
        "x=car.drop(['selling_price'],axis=1)\n",
        "y=car['selling_price']\n",
        "print(type(x))\n",
        "print(type(y))\n",
        "print(x.shape)\n",
        "print(y.shape)"
      ]
    },
    {
      "cell_type": "code",
      "execution_count": 45,
      "metadata": {
        "id": "TSRVMsmlwiAO"
      },
      "outputs": [
        {
          "data": {
            "text/html": [
              "<div>\n",
              "<style scoped>\n",
              "    .dataframe tbody tr th:only-of-type {\n",
              "        vertical-align: middle;\n",
              "    }\n",
              "\n",
              "    .dataframe tbody tr th {\n",
              "        vertical-align: top;\n",
              "    }\n",
              "\n",
              "    .dataframe thead th {\n",
              "        text-align: right;\n",
              "    }\n",
              "</style>\n",
              "<table border=\"1\" class=\"dataframe\">\n",
              "  <thead>\n",
              "    <tr style=\"text-align: right;\">\n",
              "      <th></th>\n",
              "      <th>name</th>\n",
              "      <th>km_driven</th>\n",
              "      <th>fuel</th>\n",
              "      <th>seller_type</th>\n",
              "      <th>transmission</th>\n",
              "      <th>owner</th>\n",
              "      <th>age</th>\n",
              "    </tr>\n",
              "  </thead>\n",
              "  <tbody>\n",
              "    <tr>\n",
              "      <th>0</th>\n",
              "      <td>774</td>\n",
              "      <td>70000</td>\n",
              "      <td>4</td>\n",
              "      <td>1</td>\n",
              "      <td>1</td>\n",
              "      <td>0</td>\n",
              "      <td>16</td>\n",
              "    </tr>\n",
              "    <tr>\n",
              "      <th>1</th>\n",
              "      <td>1040</td>\n",
              "      <td>50000</td>\n",
              "      <td>4</td>\n",
              "      <td>1</td>\n",
              "      <td>1</td>\n",
              "      <td>0</td>\n",
              "      <td>16</td>\n",
              "    </tr>\n",
              "    <tr>\n",
              "      <th>2</th>\n",
              "      <td>504</td>\n",
              "      <td>100000</td>\n",
              "      <td>1</td>\n",
              "      <td>1</td>\n",
              "      <td>1</td>\n",
              "      <td>0</td>\n",
              "      <td>11</td>\n",
              "    </tr>\n",
              "    <tr>\n",
              "      <th>3</th>\n",
              "      <td>117</td>\n",
              "      <td>46000</td>\n",
              "      <td>4</td>\n",
              "      <td>1</td>\n",
              "      <td>1</td>\n",
              "      <td>0</td>\n",
              "      <td>6</td>\n",
              "    </tr>\n",
              "    <tr>\n",
              "      <th>4</th>\n",
              "      <td>278</td>\n",
              "      <td>141000</td>\n",
              "      <td>1</td>\n",
              "      <td>1</td>\n",
              "      <td>1</td>\n",
              "      <td>2</td>\n",
              "      <td>9</td>\n",
              "    </tr>\n",
              "  </tbody>\n",
              "</table>\n",
              "</div>"
            ],
            "text/plain": [
              "   name  km_driven  fuel  seller_type  transmission  owner  age\n",
              "0   774      70000     4            1             1      0   16\n",
              "1  1040      50000     4            1             1      0   16\n",
              "2   504     100000     1            1             1      0   11\n",
              "3   117      46000     4            1             1      0    6\n",
              "4   278     141000     1            1             1      2    9"
            ]
          },
          "execution_count": 45,
          "metadata": {},
          "output_type": "execute_result"
        }
      ],
      "source": [
        "x.head()"
      ]
    },
    {
      "cell_type": "code",
      "execution_count": 46,
      "metadata": {
        "id": "WJvu23ar61Wo"
      },
      "outputs": [
        {
          "name": "stdout",
          "output_type": "stream",
          "text": [
            "<class 'pandas.core.frame.DataFrame'>\n",
            "Index: 3577 entries, 0 to 4339\n",
            "Data columns (total 9 columns):\n",
            " #   Column         Non-Null Count  Dtype\n",
            "---  ------         --------------  -----\n",
            " 0   name           3577 non-null   int32\n",
            " 1   year           3577 non-null   int64\n",
            " 2   selling_price  3577 non-null   int64\n",
            " 3   km_driven      3577 non-null   int64\n",
            " 4   fuel           3577 non-null   int32\n",
            " 5   seller_type    3577 non-null   int32\n",
            " 6   transmission   3577 non-null   int32\n",
            " 7   owner          3577 non-null   int32\n",
            " 8   age            3577 non-null   int64\n",
            "dtypes: int32(5), int64(4)\n",
            "memory usage: 338.6 KB\n"
          ]
        }
      ],
      "source": [
        "df.info()"
      ]
    },
    {
      "cell_type": "code",
      "execution_count": 47,
      "metadata": {
        "id": "Lz2QrfWav4pd"
      },
      "outputs": [
        {
          "name": "stdout",
          "output_type": "stream",
          "text": [
            "<class 'pandas.core.frame.DataFrame'>\n",
            "Index: 3575 entries, 0 to 4339\n",
            "Data columns (total 8 columns):\n",
            " #   Column         Non-Null Count  Dtype\n",
            "---  ------         --------------  -----\n",
            " 0   name           3575 non-null   int32\n",
            " 1   selling_price  3575 non-null   int64\n",
            " 2   km_driven      3575 non-null   int64\n",
            " 3   fuel           3575 non-null   int32\n",
            " 4   seller_type    3575 non-null   int32\n",
            " 5   transmission   3575 non-null   int32\n",
            " 6   owner          3575 non-null   int32\n",
            " 7   age            3575 non-null   int64\n",
            "dtypes: int32(5), int64(3)\n",
            "memory usage: 181.5 KB\n"
          ]
        }
      ],
      "source": [
        "car.info()"
      ]
    },
    {
      "cell_type": "code",
      "execution_count": 48,
      "metadata": {
        "id": "BK_CDcTKvOXv"
      },
      "outputs": [
        {
          "name": "stdout",
          "output_type": "stream",
          "text": [
            "(2502, 7)\n",
            "(1073, 7)\n",
            "(2502,)\n",
            "(1073,)\n"
          ]
        }
      ],
      "source": [
        "from sklearn.model_selection import train_test_split\n",
        "x_train,x_test,y_train,y_test = train_test_split(x,y,test_size=0.30,random_state=42)\n",
        "print(x_train.shape)\n",
        "print(x_test.shape)\n",
        "print(y_train.shape)\n",
        "print(y_test.shape)"
      ]
    },
    {
      "cell_type": "code",
      "execution_count": 49,
      "metadata": {
        "id": "IR9dlK8sxNsw"
      },
      "outputs": [],
      "source": [
        "from sklearn.linear_model import LinearRegression\n",
        "from sklearn.ensemble import RandomForestRegressor\n",
        "from sklearn.ensemble import GradientBoostingRegressor\n",
        "from sklearn.ensemble import AdaBoostRegressor"
      ]
    },
    {
      "cell_type": "code",
      "execution_count": 50,
      "metadata": {
        "id": "IkxKP8QVx3VJ"
      },
      "outputs": [],
      "source": [
        "from sklearn.metrics import mean_absolute_error,mean_squared_error,r2_score"
      ]
    },
    {
      "cell_type": "code",
      "execution_count": 51,
      "metadata": {
        "id": "FTScmC_ex-LC"
      },
      "outputs": [],
      "source": [
        "def reg_eval_metrics (y,ypred):\n",
        "    mae=mean_absolute_error(y,ypred)\n",
        "    mse=mean_squared_error(y,ypred)\n",
        "    rmse=np.sqrt(mean_squared_error(y,ypred))\n",
        "    r2=r2_score(y,ypred)\n",
        "    print('MAE', mae)\n",
        "    print('MSE',mse)\n",
        "    print('RMSE',rmse)\n",
        "    print('R2_SCORE',r2)\n",
        "\n",
        "def train_test_scr(model):\n",
        "    print('training score',model.score(x_train,y_train))\n",
        "    print('testing score',model.score(x_test,y_test))"
      ]
    },
    {
      "cell_type": "markdown",
      "metadata": {
        "id": "UkM9K1Nvyxof"
      },
      "source": [
        "# **Bulding Linear  Model**"
      ]
    },
    {
      "cell_type": "code",
      "execution_count": 52,
      "metadata": {
        "id": "4YEIhdf2z2kw"
      },
      "outputs": [
        {
          "name": "stdout",
          "output_type": "stream",
          "text": [
            "training score 0.4648172463643315\n",
            "testing score 0.45582298258296705\n"
          ]
        }
      ],
      "source": [
        "lr=LinearRegression()\n",
        "lr.fit(x_train,y_train)\n",
        "ypred_lr=lr.predict(x_test)\n",
        "train_test_scr(lr)"
      ]
    },
    {
      "cell_type": "code",
      "execution_count": 53,
      "metadata": {
        "id": "d0t6RPiy0OTN"
      },
      "outputs": [
        {
          "data": {
            "text/plain": [
              "Index(['name', 'selling_price', 'km_driven', 'fuel', 'seller_type',\n",
              "       'transmission', 'owner', 'age'],\n",
              "      dtype='object')"
            ]
          },
          "execution_count": 53,
          "metadata": {},
          "output_type": "execute_result"
        }
      ],
      "source": [
        "car.columns"
      ]
    },
    {
      "cell_type": "code",
      "execution_count": 54,
      "metadata": {
        "id": "-hJ1QxEz0MlD"
      },
      "outputs": [
        {
          "name": "stdout",
          "output_type": "stream",
          "text": [
            "MAE 216905.3003889687\n",
            "MSE 152631521801.7846\n",
            "RMSE 390680.8439145495\n",
            "R2_SCORE 0.45582298258296705\n"
          ]
        }
      ],
      "source": [
        "reg_eval_metrics(y_test,ypred_lr)"
      ]
    },
    {
      "cell_type": "code",
      "execution_count": 55,
      "metadata": {
        "id": "dOwBSyJU0vf3"
      },
      "outputs": [
        {
          "name": "stdout",
          "output_type": "stream",
          "text": [
            "[-2.54013651e+01 -6.09809165e-01 -8.21752880e+04 -1.62873991e+04\n",
            " -6.84874841e+05 -1.62813840e+04 -3.54477335e+04]\n",
            "1736385.5256775436\n"
          ]
        }
      ],
      "source": [
        "m=lr.coef_\n",
        "c=lr.intercept_\n",
        "print(m)\n",
        "print(c)"
      ]
    },
    {
      "cell_type": "code",
      "execution_count": 56,
      "metadata": {
        "id": "pvgkInrq2xOH"
      },
      "outputs": [
        {
          "data": {
            "text/plain": [
              "0       4\n",
              "1       4\n",
              "2       1\n",
              "3       4\n",
              "4       1\n",
              "       ..\n",
              "4335    1\n",
              "4336    1\n",
              "4337    4\n",
              "4338    1\n",
              "4339    4\n",
              "Name: fuel, Length: 3575, dtype: int32"
            ]
          },
          "execution_count": 56,
          "metadata": {},
          "output_type": "execute_result"
        }
      ],
      "source": [
        "car.fuel"
      ]
    },
    {
      "cell_type": "markdown",
      "metadata": {
        "id": "zvBDYsYJzxf4"
      },
      "source": [
        "# **Data Cleaning**"
      ]
    },
    {
      "cell_type": "code",
      "execution_count": 57,
      "metadata": {
        "id": "fuqD_M557Inf"
      },
      "outputs": [
        {
          "name": "stdout",
          "output_type": "stream",
          "text": [
            "name\n",
            "970     54\n",
            "792     48\n",
            "813     42\n",
            "810     30\n",
            "395     28\n",
            "        ..\n",
            "1110     1\n",
            "711      1\n",
            "1348     1\n",
            "451      1\n",
            "600      1\n",
            "Name: count, Length: 1489, dtype: int64 \n",
            "\n",
            "\n",
            "\n",
            "selling_price\n",
            "300000     137\n",
            "250000     112\n",
            "350000     106\n",
            "500000      87\n",
            "600000      84\n",
            "          ... \n",
            "2595000      1\n",
            "368000       1\n",
            "248000       1\n",
            "641000       1\n",
            "865000       1\n",
            "Name: count, Length: 443, dtype: int64 \n",
            "\n",
            "\n",
            "\n",
            "km_driven\n",
            "70000     210\n",
            "80000     199\n",
            "120000    199\n",
            "60000     194\n",
            "50000     181\n",
            "         ... \n",
            "40771       1\n",
            "30500       1\n",
            "55800       1\n",
            "66569       1\n",
            "112198      1\n",
            "Name: count, Length: 769, dtype: int64 \n",
            "\n",
            "\n",
            "\n",
            "fuel\n",
            "1    1799\n",
            "4    1716\n",
            "0      37\n",
            "3      22\n",
            "2       1\n",
            "Name: count, dtype: int64 \n",
            "\n",
            "\n",
            "\n",
            "seller_type\n",
            "1    2832\n",
            "0     710\n",
            "2      33\n",
            "Name: count, dtype: int64 \n",
            "\n",
            "\n",
            "\n",
            "transmission\n",
            "1    3265\n",
            "0     310\n",
            "Name: count, dtype: int64 \n",
            "\n",
            "\n",
            "\n",
            "owner\n",
            "0    2216\n",
            "2     978\n",
            "4     289\n",
            "1      75\n",
            "3      17\n",
            "Name: count, dtype: int64 \n",
            "\n",
            "\n",
            "\n",
            "age\n",
            "6     345\n",
            "11    338\n",
            "8     332\n",
            "9     321\n",
            "10    298\n",
            "5     295\n",
            "7     282\n",
            "12    247\n",
            "13    210\n",
            "14    169\n",
            "4     162\n",
            "15    129\n",
            "16    117\n",
            "17     93\n",
            "18     61\n",
            "3      45\n",
            "19     38\n",
            "20     22\n",
            "21     18\n",
            "22     16\n",
            "23     12\n",
            "25      9\n",
            "24      9\n",
            "26      3\n",
            "27      2\n",
            "28      1\n",
            "31      1\n",
            "Name: count, dtype: int64 \n",
            "\n",
            "\n",
            "\n"
          ]
        }
      ],
      "source": [
        "for col in car:\n",
        "    print(car[col].value_counts(ascending=False), '\\n\\n\\n')"
      ]
    },
    {
      "cell_type": "markdown",
      "metadata": {
        "id": "LCgDAVtx1Z4G"
      },
      "source": [
        "# **Randomforest Regressor Model**"
      ]
    },
    {
      "cell_type": "code",
      "execution_count": 58,
      "metadata": {
        "id": "SNLemgkR1Zpl"
      },
      "outputs": [
        {
          "name": "stdout",
          "output_type": "stream",
          "text": [
            "training score 0.7947377851513461\n",
            "testing score 0.6291665499590922\n"
          ]
        }
      ],
      "source": [
        "rf= RandomForestRegressor(max_depth=15,min_samples_split=2,min_samples_leaf=5,random_state=42)\n",
        "rf.fit(x_train,y_train)\n",
        "ypred_rf=rf.predict(x_test)\n",
        "train_test_scr(rf)"
      ]
    },
    {
      "cell_type": "code",
      "execution_count": 59,
      "metadata": {
        "id": "P_aXNUYS2hTn"
      },
      "outputs": [
        {
          "name": "stdout",
          "output_type": "stream",
          "text": [
            "MAE 148675.0575352555\n",
            "MSE 104011878493.89355\n",
            "RMSE 322508.7262290643\n",
            "R2_SCORE 0.6291665499590922\n"
          ]
        }
      ],
      "source": [
        "reg_eval_metrics(y_test,ypred_rf)"
      ]
    },
    {
      "cell_type": "markdown",
      "metadata": {
        "id": "R663RCFW2mGC"
      },
      "source": [
        "# **Gradient boosting regressor model**"
      ]
    },
    {
      "cell_type": "code",
      "execution_count": 60,
      "metadata": {
        "id": "Cgsye5Q22lhb"
      },
      "outputs": [
        {
          "name": "stdout",
          "output_type": "stream",
          "text": [
            "training score 0.7606431682891174\n",
            "testing score 0.6860439760720345\n"
          ]
        }
      ],
      "source": [
        "gbr=GradientBoostingRegressor(max_depth=10,max_features=100,n_estimators=300,learning_rate=0.05,subsample=0.8,min_samples_split=500,min_samples_leaf=30,random_state=42)\n",
        "gbr.fit(x_train,y_train)\n",
        "ypred_gbr=gbr.predict(x_test)\n",
        "train_test_scr(gbr)"
      ]
    },
    {
      "cell_type": "code",
      "execution_count": 61,
      "metadata": {
        "id": "nvmuXIDf3oFJ"
      },
      "outputs": [
        {
          "name": "stdout",
          "output_type": "stream",
          "text": [
            "MAE 142136.90787122122\n",
            "MSE 88058819423.16475\n",
            "RMSE 296747.0630405038\n",
            "R2_SCORE 0.6860439760720345\n"
          ]
        }
      ],
      "source": [
        "reg_eval_metrics(y_test,ypred_gbr)"
      ]
    },
    {
      "cell_type": "markdown",
      "metadata": {
        "id": "k0lik5Ep32fm"
      },
      "source": [
        "# **Ada boost regressor model**"
      ]
    },
    {
      "cell_type": "code",
      "execution_count": 62,
      "metadata": {
        "id": "Y_uNPHH44dYA"
      },
      "outputs": [
        {
          "name": "stdout",
          "output_type": "stream",
          "text": [
            "training score 0.4815316605542247\n",
            "testing score 0.48758620533442\n"
          ]
        }
      ],
      "source": [
        "adr=AdaBoostRegressor()\n",
        "adr.fit(x_train,y_train)\n",
        "ypred_adr=adr.predict(x_test)\n",
        "train_test_scr(adr)"
      ]
    },
    {
      "cell_type": "code",
      "execution_count": 63,
      "metadata": {
        "id": "h8gQm9tM5BXu"
      },
      "outputs": [
        {
          "name": "stdout",
          "output_type": "stream",
          "text": [
            "MAE 224338.56562704104\n",
            "MSE 143722529193.2857\n",
            "RMSE 379107.5430445637\n",
            "R2_SCORE 0.48758620533442\n"
          ]
        }
      ],
      "source": [
        "reg_eval_metrics(y_test,ypred_adr)"
      ]
    },
    {
      "cell_type": "markdown",
      "metadata": {
        "id": "2Lhtp6JO5L8w"
      },
      "source": [
        "# **Choosing the best model**"
      ]
    },
    {
      "cell_type": "code",
      "execution_count": 64,
      "metadata": {
        "id": "pgntBkti5UrF"
      },
      "outputs": [
        {
          "name": "stdout",
          "output_type": "stream",
          "text": [
            "R2_SCORE of Linear regressor 0.45582298258296705\n",
            "R2_SCORE of Randomforest 0.6291665499590922\n",
            "R2_SCORE of Gradientboost 0.6860439760720345\n",
            "R2_SCORE of Adaboost 0.48758620533442\n"
          ]
        }
      ],
      "source": [
        "def reg_eval_metrics(y, ypred):\n",
        "    r2 = r2_score(y, ypred)\n",
        "    return r2\n",
        "\n",
        "r2_score_result = reg_eval_metrics(y_test, ypred_lr)\n",
        "print(\"R2_SCORE of Linear regressor\", r2_score_result)\n",
        "\n",
        "r2_score_result = reg_eval_metrics(y_test, ypred_rf)\n",
        "print(\"R2_SCORE of Randomforest\", r2_score_result)\n",
        "\n",
        "r2_score_result = reg_eval_metrics(y_test, ypred_gbr)\n",
        "print(\"R2_SCORE of Gradientboost\", r2_score_result)\n",
        "\n",
        "r2_score_result = reg_eval_metrics(y_test, ypred_adr)\n",
        "print(\"R2_SCORE of Adaboost\", r2_score_result)"
      ]
    },
    {
      "cell_type": "markdown",
      "metadata": {
        "id": "KhlhgiZ65wwJ"
      },
      "source": [
        " In Gradient boost regressor we can see that it has the comparitively high r2_score from every one and less in mean squared error, its mean that absolute error and root of mean squred error."
      ]
    },
    {
      "cell_type": "code",
      "execution_count": 65,
      "metadata": {
        "id": "B35-40ta7Du-"
      },
      "outputs": [
        {
          "data": {
            "text/html": [
              "<div>\n",
              "<style scoped>\n",
              "    .dataframe tbody tr th:only-of-type {\n",
              "        vertical-align: middle;\n",
              "    }\n",
              "\n",
              "    .dataframe tbody tr th {\n",
              "        vertical-align: top;\n",
              "    }\n",
              "\n",
              "    .dataframe thead th {\n",
              "        text-align: right;\n",
              "    }\n",
              "</style>\n",
              "<table border=\"1\" class=\"dataframe\">\n",
              "  <thead>\n",
              "    <tr style=\"text-align: right;\">\n",
              "      <th></th>\n",
              "      <th>name</th>\n",
              "      <th>selling_price</th>\n",
              "      <th>km_driven</th>\n",
              "      <th>fuel</th>\n",
              "      <th>seller_type</th>\n",
              "      <th>transmission</th>\n",
              "      <th>owner</th>\n",
              "      <th>age</th>\n",
              "      <th>selling_price_pred</th>\n",
              "    </tr>\n",
              "  </thead>\n",
              "  <tbody>\n",
              "    <tr>\n",
              "      <th>0</th>\n",
              "      <td>774</td>\n",
              "      <td>60000</td>\n",
              "      <td>70000</td>\n",
              "      <td>4</td>\n",
              "      <td>1</td>\n",
              "      <td>1</td>\n",
              "      <td>0</td>\n",
              "      <td>16</td>\n",
              "      <td>98722.555205</td>\n",
              "    </tr>\n",
              "    <tr>\n",
              "      <th>1</th>\n",
              "      <td>1040</td>\n",
              "      <td>135000</td>\n",
              "      <td>50000</td>\n",
              "      <td>4</td>\n",
              "      <td>1</td>\n",
              "      <td>1</td>\n",
              "      <td>0</td>\n",
              "      <td>16</td>\n",
              "      <td>150558.502681</td>\n",
              "    </tr>\n",
              "    <tr>\n",
              "      <th>2</th>\n",
              "      <td>504</td>\n",
              "      <td>600000</td>\n",
              "      <td>100000</td>\n",
              "      <td>1</td>\n",
              "      <td>1</td>\n",
              "      <td>1</td>\n",
              "      <td>0</td>\n",
              "      <td>11</td>\n",
              "      <td>443230.269889</td>\n",
              "    </tr>\n",
              "    <tr>\n",
              "      <th>3</th>\n",
              "      <td>117</td>\n",
              "      <td>250000</td>\n",
              "      <td>46000</td>\n",
              "      <td>4</td>\n",
              "      <td>1</td>\n",
              "      <td>1</td>\n",
              "      <td>0</td>\n",
              "      <td>6</td>\n",
              "      <td>315203.875789</td>\n",
              "    </tr>\n",
              "    <tr>\n",
              "      <th>4</th>\n",
              "      <td>278</td>\n",
              "      <td>450000</td>\n",
              "      <td>141000</td>\n",
              "      <td>1</td>\n",
              "      <td>1</td>\n",
              "      <td>1</td>\n",
              "      <td>2</td>\n",
              "      <td>9</td>\n",
              "      <td>462131.559603</td>\n",
              "    </tr>\n",
              "  </tbody>\n",
              "</table>\n",
              "</div>"
            ],
            "text/plain": [
              "   name  selling_price  km_driven  fuel  seller_type  transmission  owner  \\\n",
              "0   774          60000      70000     4            1             1      0   \n",
              "1  1040         135000      50000     4            1             1      0   \n",
              "2   504         600000     100000     1            1             1      0   \n",
              "3   117         250000      46000     4            1             1      0   \n",
              "4   278         450000     141000     1            1             1      2   \n",
              "\n",
              "   age  selling_price_pred  \n",
              "0   16        98722.555205  \n",
              "1   16       150558.502681  \n",
              "2   11       443230.269889  \n",
              "3    6       315203.875789  \n",
              "4    9       462131.559603  "
            ]
          },
          "execution_count": 65,
          "metadata": {},
          "output_type": "execute_result"
        }
      ],
      "source": [
        "car['selling_price_pred']=gbr.predict(x)\n",
        "car.head()"
      ]
    },
    {
      "cell_type": "code",
      "execution_count": 66,
      "metadata": {
        "id": "U0jNnO7U7Vxe"
      },
      "outputs": [
        {
          "name": "stdout",
          "output_type": "stream",
          "text": [
            "The original name corresponding to label 774 is: 774\n"
          ]
        }
      ],
      "source": [
        "# Fit and transform the \"name\" column\n",
        "# To find the original name corresponding to label 774\n",
        "label_to_find = 774\n",
        "original_name = car[car[\"name\"] == label_to_find][\"name\"].values[0]\n",
        "print(f\"The original name corresponding to label 774 is: {original_name}\")\n"
      ]
    },
    {
      "cell_type": "code",
      "execution_count": 67,
      "metadata": {
        "id": "s_HjkdCl9bA1"
      },
      "outputs": [
        {
          "data": {
            "image/png": "[encoded data removed]",
            "text/plain": [
              "<Figure size 1500x500 with 1 Axes>"
            ]
          },
          "metadata": {},
          "output_type": "display_data"
        }
      ],
      "source": [
        "import seaborn as sns\n",
        "\n",
        "plt.figure(figsize=(15,5))\n",
        "sns.regplot(data=car,x='selling_price',y='selling_price_pred', color='Hotpink',line_kws={\"color\": \"Black\"})\n",
        "plt.xlabel('selling price',color='blue')\n",
        "plt.ylabel('predicted selling price',color='red')\n",
        "#regline.set_color('black')\n",
        "plt.show()"
      ]
    },
    {
      "cell_type": "markdown",
      "metadata": {
        "id": "GU6isGSoEB4a"
      },
      "source": [
        "#Just saving the predicted car selling price value in csv file"
      ]
    },
    {
      "cell_type": "code",
      "execution_count": 68,
      "metadata": {
        "id": "8CkPJoMs-skY"
      },
      "outputs": [],
      "source": [
        "car.to_csv('New.car.selling_price_prediction.csv')"
      ]
    },
    {
      "cell_type": "code",
      "execution_count": 69,
      "metadata": {
        "id": "wFNZnZDyEt5_"
      },
      "outputs": [],
      "source": [
        "import pickle"
      ]
    },
    {
      "cell_type": "code",
      "execution_count": 70,
      "metadata": {
        "id": "As2YIrArEyxl"
      },
      "outputs": [
        {
          "data": {
            "text/html": [
              "<style>#sk-container-id-1 {color: black;}#sk-container-id-1 pre{padding: 0;}#sk-container-id-1 div.sk-toggleable {background-color: white;}#sk-container-id-1 label.sk-toggleable__label {cursor: pointer;display: block;width: 100%;margin-bottom: 0;padding: 0.3em;box-sizing: border-box;text-align: center;}#sk-container-id-1 label.sk-toggleable__label-arrow:before {content: \"▸\";float: left;margin-right: 0.25em;color: #696969;}#sk-container-id-1 label.sk-toggleable__label-arrow:hover:before {color: black;}#sk-container-id-1 div.sk-estimator:hover label.sk-toggleable__label-arrow:before {color: black;}#sk-container-id-1 div.sk-toggleable__content {max-height: 0;max-width: 0;overflow: hidden;text-align: left;background-color: #f0f8ff;}#sk-container-id-1 div.sk-toggleable__content pre {margin: 0.2em;color: black;border-radius: 0.25em;background-color: #f0f8ff;}#sk-container-id-1 input.sk-toggleable__control:checked~div.sk-toggleable__content {max-height: 200px;max-width: 100%;overflow: auto;}#sk-container-id-1 input.sk-toggleable__control:checked~label.sk-toggleable__label-arrow:before {content: \"▾\";}#sk-container-id-1 div.sk-estimator input.sk-toggleable__control:checked~label.sk-toggleable__label {background-color: #d4ebff;}#sk-container-id-1 div.sk-label input.sk-toggleable__control:checked~label.sk-toggleable__label {background-color: #d4ebff;}#sk-container-id-1 input.sk-hidden--visually {border: 0;clip: rect(1px 1px 1px 1px);clip: rect(1px, 1px, 1px, 1px);height: 1px;margin: -1px;overflow: hidden;padding: 0;position: absolute;width: 1px;}#sk-container-id-1 div.sk-estimator {font-family: monospace;background-color: #f0f8ff;border: 1px dotted black;border-radius: 0.25em;box-sizing: border-box;margin-bottom: 0.5em;}#sk-container-id-1 div.sk-estimator:hover {background-color: #d4ebff;}#sk-container-id-1 div.sk-parallel-item::after {content: \"\";width: 100%;border-bottom: 1px solid gray;flex-grow: 1;}#sk-container-id-1 div.sk-label:hover label.sk-toggleable__label {background-color: #d4ebff;}#sk-container-id-1 div.sk-serial::before {content: \"\";position: absolute;border-left: 1px solid gray;box-sizing: border-box;top: 0;bottom: 0;left: 50%;z-index: 0;}#sk-container-id-1 div.sk-serial {display: flex;flex-direction: column;align-items: center;background-color: white;padding-right: 0.2em;padding-left: 0.2em;position: relative;}#sk-container-id-1 div.sk-item {position: relative;z-index: 1;}#sk-container-id-1 div.sk-parallel {display: flex;align-items: stretch;justify-content: center;background-color: white;position: relative;}#sk-container-id-1 div.sk-item::before, #sk-container-id-1 div.sk-parallel-item::before {content: \"\";position: absolute;border-left: 1px solid gray;box-sizing: border-box;top: 0;bottom: 0;left: 50%;z-index: -1;}#sk-container-id-1 div.sk-parallel-item {display: flex;flex-direction: column;z-index: 1;position: relative;background-color: white;}#sk-container-id-1 div.sk-parallel-item:first-child::after {align-self: flex-end;width: 50%;}#sk-container-id-1 div.sk-parallel-item:last-child::after {align-self: flex-start;width: 50%;}#sk-container-id-1 div.sk-parallel-item:only-child::after {width: 0;}#sk-container-id-1 div.sk-dashed-wrapped {border: 1px dashed gray;margin: 0 0.4em 0.5em 0.4em;box-sizing: border-box;padding-bottom: 0.4em;background-color: white;}#sk-container-id-1 div.sk-label label {font-family: monospace;font-weight: bold;display: inline-block;line-height: 1.2em;}#sk-container-id-1 div.sk-label-container {text-align: center;}#sk-container-id-1 div.sk-container {/* jupyter's `normalize.less` sets `[hidden] { display: none; }` but bootstrap.min.css set `[hidden] { display: none !important; }` so we also need the `!important` here to be able to override the default hidden behavior on the sphinx rendered scikit-learn.org. See: https://github.com/scikit-learn/scikit-learn/issues/21755 */display: inline-block !important;position: relative;}#sk-container-id-1 div.sk-text-repr-fallback {display: none;}</style><div id=\"sk-container-id-1\" class=\"sk-top-container\"><div class=\"sk-text-repr-fallback\"><pre>GradientBoostingRegressor(learning_rate=0.05, max_depth=10, max_features=100,\n",
              "                          min_samples_leaf=30, min_samples_split=500,\n",
              "                          n_estimators=300, random_state=42, subsample=0.8)</pre><b>In a Jupyter environment, please rerun this cell to show the HTML representation or trust the notebook. <br />On GitHub, the HTML representation is unable to render, please try loading this page with nbviewer.org.</b></div><div class=\"sk-container\" hidden><div class=\"sk-item\"><div class=\"sk-estimator sk-toggleable\"><input class=\"sk-toggleable__control sk-hidden--visually\" id=\"sk-estimator-id-1\" type=\"checkbox\" checked><label for=\"sk-estimator-id-1\" class=\"sk-toggleable__label sk-toggleable__label-arrow\">GradientBoostingRegressor</label><div class=\"sk-toggleable__content\"><pre>GradientBoostingRegressor(learning_rate=0.05, max_depth=10, max_features=100,\n",
              "                          min_samples_leaf=30, min_samples_split=500,\n",
              "                          n_estimators=300, random_state=42, subsample=0.8)</pre></div></div></div></div></div>"
            ],
            "text/plain": [
              "GradientBoostingRegressor(learning_rate=0.05, max_depth=10, max_features=100,\n",
              "                          min_samples_leaf=30, min_samples_split=500,\n",
              "                          n_estimators=300, random_state=42, subsample=0.8)"
            ]
          },
          "execution_count": 70,
          "metadata": {},
          "output_type": "execute_result"
        }
      ],
      "source": [
        "model=GradientBoostingRegressor(max_depth=10,max_features=100,n_estimators=300,learning_rate=0.05,subsample=0.8,min_samples_split=500,min_samples_leaf=30,random_state=42)\n",
        "model.fit(x_train,y_train)"
      ]
    },
    {
      "cell_type": "markdown",
      "metadata": {
        "id": "YvqP_uMVGbqL"
      },
      "source": [
        "# **Saving the model using pickle**"
      ]
    },
    {
      "cell_type": "markdown",
      "metadata": {
        "id": "QZvYqd8KG3Xf"
      },
      "source": [
        "#**load the model form the file**"
      ]
    },
    {
      "cell_type": "code",
      "execution_count": 71,
      "metadata": {
        "id": "xUOTbdWcHBF0"
      },
      "outputs": [],
      "source": [
        "with open('nk.pkl', 'wb') as model_file:\n",
        "    pickle.dump(model, model_file)\n",
        "\n",
        "# Load the model\n",
        "with open('nk.pkl', 'rb') as model_file:\n",
        "    loaded_model = pickle.load(model_file)"
      ]
    },
    {
      "cell_type": "code",
      "execution_count": 72,
      "metadata": {
        "id": "ymf2P3YfIX8n"
      },
      "outputs": [
        {
          "name": "stdout",
          "output_type": "stream",
          "text": [
            "File loaded successfully.\n"
          ]
        }
      ],
      "source": [
        "if loaded_model is not None:\n",
        "    print(\"File loaded successfully.\")\n",
        "else:\n",
        "    print(\"File did not load properly.\")"
      ]
    },
    {
      "cell_type": "markdown",
      "metadata": {
        "id": "MXDbp8JxW1C5"
      },
      "source": [
        " # Randomly Picking datas from the dataset"
      ]
    },
    {
      "cell_type": "code",
      "execution_count": 73,
      "metadata": {
        "id": "XenbRvSjXCIG"
      },
      "outputs": [],
      "source": [
        "import random"
      ]
    },
    {
      "cell_type": "code",
      "execution_count": 74,
      "metadata": {
        "id": "VXfkv96RXTwd"
      },
      "outputs": [
        {
          "data": {
            "text/html": [
              "<div>\n",
              "<style scoped>\n",
              "    .dataframe tbody tr th:only-of-type {\n",
              "        vertical-align: middle;\n",
              "    }\n",
              "\n",
              "    .dataframe tbody tr th {\n",
              "        vertical-align: top;\n",
              "    }\n",
              "\n",
              "    .dataframe thead th {\n",
              "        text-align: right;\n",
              "    }\n",
              "</style>\n",
              "<table border=\"1\" class=\"dataframe\">\n",
              "  <thead>\n",
              "    <tr style=\"text-align: right;\">\n",
              "      <th></th>\n",
              "      <th>name</th>\n",
              "      <th>selling_price</th>\n",
              "      <th>km_driven</th>\n",
              "      <th>fuel</th>\n",
              "      <th>seller_type</th>\n",
              "      <th>transmission</th>\n",
              "      <th>owner</th>\n",
              "      <th>age</th>\n",
              "      <th>selling_price_pred</th>\n",
              "    </tr>\n",
              "  </thead>\n",
              "  <tbody>\n",
              "    <tr>\n",
              "      <th>364</th>\n",
              "      <td>1154</td>\n",
              "      <td>270000</td>\n",
              "      <td>40000</td>\n",
              "      <td>4</td>\n",
              "      <td>1</td>\n",
              "      <td>1</td>\n",
              "      <td>0</td>\n",
              "      <td>6</td>\n",
              "      <td>308121.572369</td>\n",
              "    </tr>\n",
              "    <tr>\n",
              "      <th>3950</th>\n",
              "      <td>320</td>\n",
              "      <td>785000</td>\n",
              "      <td>40000</td>\n",
              "      <td>1</td>\n",
              "      <td>1</td>\n",
              "      <td>1</td>\n",
              "      <td>0</td>\n",
              "      <td>8</td>\n",
              "      <td>687624.148301</td>\n",
              "    </tr>\n",
              "    <tr>\n",
              "      <th>107</th>\n",
              "      <td>491</td>\n",
              "      <td>600000</td>\n",
              "      <td>100000</td>\n",
              "      <td>1</td>\n",
              "      <td>1</td>\n",
              "      <td>1</td>\n",
              "      <td>0</td>\n",
              "      <td>13</td>\n",
              "      <td>330862.585302</td>\n",
              "    </tr>\n",
              "    <tr>\n",
              "      <th>3845</th>\n",
              "      <td>761</td>\n",
              "      <td>350000</td>\n",
              "      <td>145000</td>\n",
              "      <td>1</td>\n",
              "      <td>1</td>\n",
              "      <td>1</td>\n",
              "      <td>0</td>\n",
              "      <td>9</td>\n",
              "      <td>439730.340412</td>\n",
              "    </tr>\n",
              "    <tr>\n",
              "      <th>3595</th>\n",
              "      <td>708</td>\n",
              "      <td>275000</td>\n",
              "      <td>155000</td>\n",
              "      <td>1</td>\n",
              "      <td>1</td>\n",
              "      <td>0</td>\n",
              "      <td>4</td>\n",
              "      <td>14</td>\n",
              "      <td>637105.494630</td>\n",
              "    </tr>\n",
              "    <tr>\n",
              "      <th>503</th>\n",
              "      <td>204</td>\n",
              "      <td>450000</td>\n",
              "      <td>90165</td>\n",
              "      <td>1</td>\n",
              "      <td>0</td>\n",
              "      <td>1</td>\n",
              "      <td>0</td>\n",
              "      <td>11</td>\n",
              "      <td>344524.770313</td>\n",
              "    </tr>\n",
              "    <tr>\n",
              "      <th>4325</th>\n",
              "      <td>813</td>\n",
              "      <td>65000</td>\n",
              "      <td>90000</td>\n",
              "      <td>4</td>\n",
              "      <td>1</td>\n",
              "      <td>1</td>\n",
              "      <td>2</td>\n",
              "      <td>23</td>\n",
              "      <td>50198.166663</td>\n",
              "    </tr>\n",
              "    <tr>\n",
              "      <th>3423</th>\n",
              "      <td>793</td>\n",
              "      <td>210000</td>\n",
              "      <td>15000</td>\n",
              "      <td>4</td>\n",
              "      <td>1</td>\n",
              "      <td>1</td>\n",
              "      <td>0</td>\n",
              "      <td>11</td>\n",
              "      <td>231155.061412</td>\n",
              "    </tr>\n",
              "    <tr>\n",
              "      <th>2082</th>\n",
              "      <td>530</td>\n",
              "      <td>370000</td>\n",
              "      <td>55168</td>\n",
              "      <td>4</td>\n",
              "      <td>1</td>\n",
              "      <td>1</td>\n",
              "      <td>2</td>\n",
              "      <td>12</td>\n",
              "      <td>241202.753366</td>\n",
              "    </tr>\n",
              "    <tr>\n",
              "      <th>3110</th>\n",
              "      <td>683</td>\n",
              "      <td>707000</td>\n",
              "      <td>60000</td>\n",
              "      <td>1</td>\n",
              "      <td>1</td>\n",
              "      <td>1</td>\n",
              "      <td>0</td>\n",
              "      <td>5</td>\n",
              "      <td>864313.716126</td>\n",
              "    </tr>\n",
              "    <tr>\n",
              "      <th>2009</th>\n",
              "      <td>229</td>\n",
              "      <td>190000</td>\n",
              "      <td>120000</td>\n",
              "      <td>1</td>\n",
              "      <td>1</td>\n",
              "      <td>1</td>\n",
              "      <td>0</td>\n",
              "      <td>10</td>\n",
              "      <td>247424.583744</td>\n",
              "    </tr>\n",
              "    <tr>\n",
              "      <th>1037</th>\n",
              "      <td>829</td>\n",
              "      <td>725000</td>\n",
              "      <td>49217</td>\n",
              "      <td>4</td>\n",
              "      <td>2</td>\n",
              "      <td>1</td>\n",
              "      <td>0</td>\n",
              "      <td>7</td>\n",
              "      <td>423589.686123</td>\n",
              "    </tr>\n",
              "    <tr>\n",
              "      <th>1220</th>\n",
              "      <td>792</td>\n",
              "      <td>200000</td>\n",
              "      <td>90000</td>\n",
              "      <td>4</td>\n",
              "      <td>1</td>\n",
              "      <td>1</td>\n",
              "      <td>4</td>\n",
              "      <td>11</td>\n",
              "      <td>152218.993159</td>\n",
              "    </tr>\n",
              "    <tr>\n",
              "      <th>2647</th>\n",
              "      <td>992</td>\n",
              "      <td>350000</td>\n",
              "      <td>60000</td>\n",
              "      <td>1</td>\n",
              "      <td>1</td>\n",
              "      <td>1</td>\n",
              "      <td>2</td>\n",
              "      <td>8</td>\n",
              "      <td>465709.163551</td>\n",
              "    </tr>\n",
              "    <tr>\n",
              "      <th>3726</th>\n",
              "      <td>792</td>\n",
              "      <td>180000</td>\n",
              "      <td>61000</td>\n",
              "      <td>4</td>\n",
              "      <td>1</td>\n",
              "      <td>1</td>\n",
              "      <td>0</td>\n",
              "      <td>9</td>\n",
              "      <td>199715.416135</td>\n",
              "    </tr>\n",
              "    <tr>\n",
              "      <th>224</th>\n",
              "      <td>535</td>\n",
              "      <td>120000</td>\n",
              "      <td>90000</td>\n",
              "      <td>4</td>\n",
              "      <td>1</td>\n",
              "      <td>1</td>\n",
              "      <td>2</td>\n",
              "      <td>15</td>\n",
              "      <td>110235.906243</td>\n",
              "    </tr>\n",
              "    <tr>\n",
              "      <th>3765</th>\n",
              "      <td>1099</td>\n",
              "      <td>1090000</td>\n",
              "      <td>120000</td>\n",
              "      <td>1</td>\n",
              "      <td>1</td>\n",
              "      <td>1</td>\n",
              "      <td>2</td>\n",
              "      <td>11</td>\n",
              "      <td>621533.664192</td>\n",
              "    </tr>\n",
              "    <tr>\n",
              "      <th>3548</th>\n",
              "      <td>1152</td>\n",
              "      <td>300000</td>\n",
              "      <td>40000</td>\n",
              "      <td>4</td>\n",
              "      <td>1</td>\n",
              "      <td>1</td>\n",
              "      <td>0</td>\n",
              "      <td>7</td>\n",
              "      <td>238535.741045</td>\n",
              "    </tr>\n",
              "    <tr>\n",
              "      <th>1810</th>\n",
              "      <td>1038</td>\n",
              "      <td>155000</td>\n",
              "      <td>60000</td>\n",
              "      <td>3</td>\n",
              "      <td>1</td>\n",
              "      <td>1</td>\n",
              "      <td>2</td>\n",
              "      <td>14</td>\n",
              "      <td>150606.260785</td>\n",
              "    </tr>\n",
              "    <tr>\n",
              "      <th>964</th>\n",
              "      <td>970</td>\n",
              "      <td>500000</td>\n",
              "      <td>50000</td>\n",
              "      <td>1</td>\n",
              "      <td>1</td>\n",
              "      <td>1</td>\n",
              "      <td>0</td>\n",
              "      <td>5</td>\n",
              "      <td>764446.730904</td>\n",
              "    </tr>\n",
              "  </tbody>\n",
              "</table>\n",
              "</div>"
            ],
            "text/plain": [
              "      name  selling_price  km_driven  fuel  seller_type  transmission  owner  \\\n",
              "364   1154         270000      40000     4            1             1      0   \n",
              "3950   320         785000      40000     1            1             1      0   \n",
              "107    491         600000     100000     1            1             1      0   \n",
              "3845   761         350000     145000     1            1             1      0   \n",
              "3595   708         275000     155000     1            1             0      4   \n",
              "503    204         450000      90165     1            0             1      0   \n",
              "4325   813          65000      90000     4            1             1      2   \n",
              "3423   793         210000      15000     4            1             1      0   \n",
              "2082   530         370000      55168     4            1             1      2   \n",
              "3110   683         707000      60000     1            1             1      0   \n",
              "2009   229         190000     120000     1            1             1      0   \n",
              "1037   829         725000      49217     4            2             1      0   \n",
              "1220   792         200000      90000     4            1             1      4   \n",
              "2647   992         350000      60000     1            1             1      2   \n",
              "3726   792         180000      61000     4            1             1      0   \n",
              "224    535         120000      90000     4            1             1      2   \n",
              "3765  1099        1090000     120000     1            1             1      2   \n",
              "3548  1152         300000      40000     4            1             1      0   \n",
              "1810  1038         155000      60000     3            1             1      2   \n",
              "964    970         500000      50000     1            1             1      0   \n",
              "\n",
              "      age  selling_price_pred  \n",
              "364     6       308121.572369  \n",
              "3950    8       687624.148301  \n",
              "107    13       330862.585302  \n",
              "3845    9       439730.340412  \n",
              "3595   14       637105.494630  \n",
              "503    11       344524.770313  \n",
              "4325   23        50198.166663  \n",
              "3423   11       231155.061412  \n",
              "2082   12       241202.753366  \n",
              "3110    5       864313.716126  \n",
              "2009   10       247424.583744  \n",
              "1037    7       423589.686123  \n",
              "1220   11       152218.993159  \n",
              "2647    8       465709.163551  \n",
              "3726    9       199715.416135  \n",
              "224    15       110235.906243  \n",
              "3765   11       621533.664192  \n",
              "3548    7       238535.741045  \n",
              "1810   14       150606.260785  \n",
              "964     5       764446.730904  "
            ]
          },
          "execution_count": 74,
          "metadata": {},
          "output_type": "execute_result"
        }
      ],
      "source": [
        "random_car = car.sample(n=20, random_state=1)\n",
        "random_car"
      ]
    },
    {
      "cell_type": "code",
      "execution_count": 75,
      "metadata": {
        "id": "loZjLPfJYJck"
      },
      "outputs": [
        {
          "data": {
            "text/plain": [
              "Index(['name', 'selling_price', 'km_driven', 'fuel', 'seller_type',\n",
              "       'transmission', 'owner', 'age', 'selling_price_pred'],\n",
              "      dtype='object')"
            ]
          },
          "execution_count": 75,
          "metadata": {},
          "output_type": "execute_result"
        }
      ],
      "source": [
        "random_car.columns"
      ]
    },
    {
      "cell_type": "code",
      "execution_count": 76,
      "metadata": {
        "id": "r--p1VTWaOUU"
      },
      "outputs": [
        {
          "data": {
            "text/plain": [
              "(20, 9)"
            ]
          },
          "execution_count": 76,
          "metadata": {},
          "output_type": "execute_result"
        }
      ],
      "source": [
        "random_car.shape"
      ]
    },
    {
      "cell_type": "code",
      "execution_count": 77,
      "metadata": {
        "id": "OtOgRAmraut3"
      },
      "outputs": [],
      "source": [
        "from sklearn.preprocessing import LabelEncoder\n",
        "lb=LabelEncoder()\n",
        "random_car['name']=lb.fit_transform(random_car['name'])\n",
        "random_car['fuel']=lb.fit_transform(random_car['fuel'])\n",
        "random_car['seller_type']=lb.fit_transform(random_car['seller_type'])\n",
        "random_car['transmission']=lb.fit_transform(random_car['transmission'])\n",
        "random_car['owner']=lb.fit_transform(random_car['owner'])"
      ]
    },
    {
      "cell_type": "code",
      "execution_count": 78,
      "metadata": {
        "id": "d4u3ccB2bMBh"
      },
      "outputs": [
        {
          "name": "stdout",
          "output_type": "stream",
          "text": [
            "<class 'pandas.core.frame.DataFrame'>\n",
            "<class 'pandas.core.series.Series'>\n",
            "(20, 7)\n",
            "(20,)\n"
          ]
        }
      ],
      "source": [
        "a=a=random_car.drop(['name','selling_price'],axis=1)\n",
        "b=random_car['selling_price']\n",
        "print(type(a))\n",
        "print(type(b))\n",
        "print(a.shape)\n",
        "print(b.shape)"
      ]
    },
    {
      "cell_type": "code",
      "execution_count": 79,
      "metadata": {
        "id": "k5iRXKTcbyi5"
      },
      "outputs": [
        {
          "name": "stdout",
          "output_type": "stream",
          "text": [
            "(14, 7)\n",
            "(6, 7)\n",
            "(14,)\n",
            "(6,)\n"
          ]
        }
      ],
      "source": [
        "from sklearn.model_selection import train_test_split\n",
        "a_train,a_test,b_train,b_test = train_test_split(a,b,test_size=0.30,random_state=42)\n",
        "print(a_train.shape)\n",
        "print(a_test.shape)\n",
        "print(b_train.shape)\n",
        "print(b_test.shape)"
      ]
    },
    {
      "cell_type": "code",
      "execution_count": 80,
      "metadata": {
        "id": "xI-cSBBZb684"
      },
      "outputs": [],
      "source": [
        "def reg_eval_metrics (b,bpred):\n",
        "    mae=mean_absolute_error(b,bpred)\n",
        "    mse=mean_squared_error(b,bpred)\n",
        "    rmse=np.sqrt(mean_squared_error(b,bpred))\n",
        "    r2=r2_score(b,bpred)\n",
        "    print('MAE', mae)\n",
        "    print('MSE',mse)\n",
        "    print('RMSE',rmse)\n",
        "    print('R2_SCORE',r2)\n",
        "\n",
        "\n",
        "def train_test_scr(model):\n",
        "    print('training score',model.score(a_train,b_train))\n",
        "    print('testing score',model.score(a_test,b_test))"
      ]
    },
    {
      "cell_type": "code",
      "execution_count": 81,
      "metadata": {
        "id": "lvtYVjvOcA0A"
      },
      "outputs": [
        {
          "name": "stdout",
          "output_type": "stream",
          "text": [
            "training score 0.6394565383966013\n",
            "testing score 0.3352140331649892\n"
          ]
        }
      ],
      "source": [
        "testing_gbr=GradientBoostingRegressor(max_depth=5,n_estimators=5,random_state=5,learning_rate=0.1)\n",
        "testing_gbr.fit(a_train,b_train)\n",
        "ypred_testing_gbr=testing_gbr.predict(a_test)\n",
        "train_test_scr(testing_gbr)"
      ]
    },
    {
      "cell_type": "code",
      "execution_count": 82,
      "metadata": {
        "id": "gI_gtW4CcUJt"
      },
      "outputs": [
        {
          "name": "stdout",
          "output_type": "stream",
          "text": [
            "MAE 131183.63407701353\n",
            "MSE 28263098385.837635\n",
            "RMSE 168116.32397193805\n",
            "R2_SCORE 0.3352140331649892\n"
          ]
        }
      ],
      "source": [
        "reg_eval_metrics(b_test,ypred_testing_gbr)"
      ]
    },
    {
      "cell_type": "code",
      "execution_count": 83,
      "metadata": {
        "id": "-Su8VPvWDZah"
      },
      "outputs": [
        {
          "data": {
            "text/plain": [
              "0        774\n",
              "1       1040\n",
              "2        504\n",
              "3        117\n",
              "4        278\n",
              "        ... \n",
              "4335     601\n",
              "4336     600\n",
              "4337     776\n",
              "4338     380\n",
              "4339    1152\n",
              "Name: name, Length: 3575, dtype: int32"
            ]
          },
          "execution_count": 83,
          "metadata": {},
          "output_type": "execute_result"
        }
      ],
      "source": [
        "car.name"
      ]
    }
  ],
  "metadata": {
    "colab": {
      "private_outputs": true,
      "provenance": []
    },
    "kernelspec": {
      "display_name": "Python 3",
      "name": "python3"
    },
    "language_info": {
      "codemirror_mode": {
        "name": "ipython",
        "version": 3
      },
      "file_extension": ".py",
      "mimetype": "text/x-python",
      "name": "python",
      "nbconvert_exporter": "python",
      "pygments_lexer": "ipython3",
      "version": "3.11.5"
    }
  },
  "nbformat": 4,
  "nbformat_minor": 0
}
